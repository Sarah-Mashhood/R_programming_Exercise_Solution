{
 "cells": [
  {
   "cell_type": "markdown",
   "metadata": {},
   "source": [
    "# Course - Introduction to R "
   ]
  },
  {
   "cell_type": "markdown",
   "metadata": {},
   "source": [
    "##### NOTE: \n",
    "1. Your code MUST execute without any errors. \n",
    "2. You can add more lines in your code as required."
   ]
  },
  {
   "cell_type": "markdown",
   "metadata": {},
   "source": [
    "## Section 1: Data Types and Operations Pt. 1"
   ]
  },
  {
   "cell_type": "markdown",
   "metadata": {},
   "source": [
    "### Question 1 \n",
    "**Create the variables with the following composition:**\n",
    "1. A vector containing each letter of your first name as its elements.\n",
    "2. A variable that contains your name concatenated from the vector created in (1)\n",
    "3. A variable containing a sequence from 100 to 120.\n",
    "4. Create a matrix of 3x3 dimensions that contains the even sequence of numbers starting from 2.\n",
    "5. Assign names to the variables."
   ]
  },
  {
   "cell_type": "code",
   "execution_count": null,
   "metadata": {},
   "outputs": [],
   "source": [
    "#### Start solution ####"
   ]
  },
  {
   "cell_type": "code",
   "execution_count": 4,
   "metadata": {},
   "outputs": [
    {
     "name": "stdout",
     "output_type": "stream",
     "text": [
      "[1] \"S\" \"a\" \"r\" \"a\" \"h\"\n"
     ]
    }
   ],
   "source": [
    "n <- c(\"S\",\"a\",\"r\",\"a\",\"h\")\n",
    "print(n)"
   ]
  },
  {
   "cell_type": "code",
   "execution_count": 9,
   "metadata": {},
   "outputs": [
    {
     "data": {
      "text/html": [
       "'Sarah'"
      ],
      "text/latex": [
       "'Sarah'"
      ],
      "text/markdown": [
       "'Sarah'"
      ],
      "text/plain": [
       "[1] \"Sarah\""
      ]
     },
     "metadata": {},
     "output_type": "display_data"
    }
   ],
   "source": [
    "#name = paste(n[1], n[2], n[3], n[4], n[5], sep ='')\n",
    "name = paste(n, collapse = '')\n",
    "name"
   ]
  },
  {
   "cell_type": "code",
   "execution_count": 10,
   "metadata": {},
   "outputs": [
    {
     "data": {
      "text/html": [
       "<ol class=list-inline>\n",
       "\t<li>100</li>\n",
       "\t<li>101</li>\n",
       "\t<li>102</li>\n",
       "\t<li>103</li>\n",
       "\t<li>104</li>\n",
       "\t<li>105</li>\n",
       "\t<li>106</li>\n",
       "\t<li>107</li>\n",
       "\t<li>108</li>\n",
       "\t<li>109</li>\n",
       "\t<li>110</li>\n",
       "\t<li>111</li>\n",
       "\t<li>112</li>\n",
       "\t<li>113</li>\n",
       "\t<li>114</li>\n",
       "\t<li>115</li>\n",
       "\t<li>116</li>\n",
       "\t<li>117</li>\n",
       "\t<li>118</li>\n",
       "\t<li>119</li>\n",
       "\t<li>120</li>\n",
       "</ol>\n"
      ],
      "text/latex": [
       "\\begin{enumerate*}\n",
       "\\item 100\n",
       "\\item 101\n",
       "\\item 102\n",
       "\\item 103\n",
       "\\item 104\n",
       "\\item 105\n",
       "\\item 106\n",
       "\\item 107\n",
       "\\item 108\n",
       "\\item 109\n",
       "\\item 110\n",
       "\\item 111\n",
       "\\item 112\n",
       "\\item 113\n",
       "\\item 114\n",
       "\\item 115\n",
       "\\item 116\n",
       "\\item 117\n",
       "\\item 118\n",
       "\\item 119\n",
       "\\item 120\n",
       "\\end{enumerate*}\n"
      ],
      "text/markdown": [
       "1. 100\n",
       "2. 101\n",
       "3. 102\n",
       "4. 103\n",
       "5. 104\n",
       "6. 105\n",
       "7. 106\n",
       "8. 107\n",
       "9. 108\n",
       "10. 109\n",
       "11. 110\n",
       "12. 111\n",
       "13. 112\n",
       "14. 113\n",
       "15. 114\n",
       "16. 115\n",
       "17. 116\n",
       "18. 117\n",
       "19. 118\n",
       "20. 119\n",
       "21. 120\n",
       "\n",
       "\n"
      ],
      "text/plain": [
       " [1] 100 101 102 103 104 105 106 107 108 109 110 111 112 113 114 115 116 117 118\n",
       "[20] 119 120"
      ]
     },
     "metadata": {},
     "output_type": "display_data"
    }
   ],
   "source": [
    "seq <- 100:120\n",
    "seq"
   ]
  },
  {
   "cell_type": "code",
   "execution_count": 12,
   "metadata": {},
   "outputs": [
    {
     "data": {
      "text/html": [
       "<table>\n",
       "<tbody>\n",
       "\t<tr><td>2 </td><td> 8</td><td>14</td></tr>\n",
       "\t<tr><td>4 </td><td>10</td><td>16</td></tr>\n",
       "\t<tr><td>6 </td><td>12</td><td>18</td></tr>\n",
       "</tbody>\n",
       "</table>\n"
      ],
      "text/latex": [
       "\\begin{tabular}{lll}\n",
       "\t 2  &  8 & 14\\\\\n",
       "\t 4  & 10 & 16\\\\\n",
       "\t 6  & 12 & 18\\\\\n",
       "\\end{tabular}\n"
      ],
      "text/markdown": [
       "\n",
       "| 2  |  8 | 14 |\n",
       "| 4  | 10 | 16 |\n",
       "| 6  | 12 | 18 |\n",
       "\n"
      ],
      "text/plain": [
       "     [,1] [,2] [,3]\n",
       "[1,] 2     8   14  \n",
       "[2,] 4    10   16  \n",
       "[3,] 6    12   18  "
      ]
     },
     "metadata": {},
     "output_type": "display_data"
    }
   ],
   "source": [
    "mat <- seq(from = 2, length.out = 18, by = 2)\n",
    "dim <- c(3, 3)\n",
    "arr <- array( mat , dim )\n",
    "arr"
   ]
  },
  {
   "cell_type": "code",
   "execution_count": null,
   "metadata": {},
   "outputs": [],
   "source": [
    "#### End solution ####"
   ]
  },
  {
   "cell_type": "markdown",
   "metadata": {},
   "source": [
    "### Question 2\n",
    "**Create a factor variable emp_status:**\n",
    "1. Containing the categorical variables: Employed, Unemployed, Self-Employed, with each level appearing atleast more than 2.\n",
    "2. Display the levels and the factor variable as a table.\n",
    "3. Unclass the elements of the factor variable."
   ]
  },
  {
   "cell_type": "code",
   "execution_count": 4,
   "metadata": {},
   "outputs": [],
   "source": [
    "#### Start solution ####"
   ]
  },
  {
   "cell_type": "code",
   "execution_count": 75,
   "metadata": {},
   "outputs": [
    {
     "data": {
      "text/html": [
       "<ol class=list-inline>\n",
       "\t<li>Employed</li>\n",
       "\t<li>Unemployed</li>\n",
       "\t<li>Employed</li>\n",
       "\t<li>Employed</li>\n",
       "\t<li>Self-Employed</li>\n",
       "\t<li>Unemployed</li>\n",
       "\t<li>Self-Employed</li>\n",
       "\t<li>Unemployed</li>\n",
       "\t<li>Self-Employed</li>\n",
       "\t<li>Employed</li>\n",
       "\t<li>Self-Employed</li>\n",
       "</ol>\n",
       "\n",
       "<details>\n",
       "\t<summary style=display:list-item;cursor:pointer>\n",
       "\t\t<strong>Levels</strong>:\n",
       "\t</summary>\n",
       "\t<ol class=list-inline>\n",
       "\t\t<li>'Employed'</li>\n",
       "\t\t<li>'Unemployed'</li>\n",
       "\t\t<li>'Self-Employed'</li>\n",
       "\t</ol>\n",
       "</details>"
      ],
      "text/latex": [
       "\\begin{enumerate*}\n",
       "\\item Employed\n",
       "\\item Unemployed\n",
       "\\item Employed\n",
       "\\item Employed\n",
       "\\item Self-Employed\n",
       "\\item Unemployed\n",
       "\\item Self-Employed\n",
       "\\item Unemployed\n",
       "\\item Self-Employed\n",
       "\\item Employed\n",
       "\\item Self-Employed\n",
       "\\end{enumerate*}\n",
       "\n",
       "\\emph{Levels}: \\begin{enumerate*}\n",
       "\\item 'Employed'\n",
       "\\item 'Unemployed'\n",
       "\\item 'Self-Employed'\n",
       "\\end{enumerate*}\n"
      ],
      "text/markdown": [
       "1. Employed\n",
       "2. Unemployed\n",
       "3. Employed\n",
       "4. Employed\n",
       "5. Self-Employed\n",
       "6. Unemployed\n",
       "7. Self-Employed\n",
       "8. Unemployed\n",
       "9. Self-Employed\n",
       "10. Employed\n",
       "11. Self-Employed\n",
       "\n",
       "\n",
       "\n",
       "**Levels**: 1. 'Employed'\n",
       "2. 'Unemployed'\n",
       "3. 'Self-Employed'\n",
       "\n",
       "\n"
      ],
      "text/plain": [
       " [1] Employed      Unemployed    Employed      Employed      Self-Employed\n",
       " [6] Unemployed    Self-Employed Unemployed    Self-Employed Employed     \n",
       "[11] Self-Employed\n",
       "Levels: Employed Unemployed Self-Employed"
      ]
     },
     "metadata": {},
     "output_type": "display_data"
    }
   ],
   "source": [
    "data = c(\"Employed\",\"Unemployed\",\"Employed\",\"Employed\",\"Self-Employed\",\"Unemployed\",\"Self-Employed\",\"Unemployed\",\"Self-Employed\",\"Employed\",\"Self-Employed\")\n",
    "levels = c(\"Employed\",\"Unemployed\",\"Self-Employed\")\n",
    "emp_status <- factor(data,levels)\n",
    "emp_status"
   ]
  },
  {
   "cell_type": "code",
   "execution_count": 76,
   "metadata": {},
   "outputs": [
    {
     "data": {
      "text/plain": [
       "emp_status\n",
       "     Employed    Unemployed Self-Employed \n",
       "            4             3             4 "
      ]
     },
     "metadata": {},
     "output_type": "display_data"
    }
   ],
   "source": [
    "t = table(emp_status)\n",
    "t"
   ]
  },
  {
   "cell_type": "code",
   "execution_count": 8,
   "metadata": {},
   "outputs": [
    {
     "data": {
      "text/html": [
       "<ol class=list-inline>\n",
       "\t<li>1</li>\n",
       "\t<li>2</li>\n",
       "\t<li>1</li>\n",
       "\t<li>2</li>\n",
       "\t<li>1</li>\n",
       "\t<li>3</li>\n",
       "\t<li>2</li>\n",
       "\t<li>3</li>\n",
       "\t<li>2</li>\n",
       "\t<li>3</li>\n",
       "\t<li>1</li>\n",
       "\t<li>3</li>\n",
       "</ol>\n"
      ],
      "text/latex": [
       "\\begin{enumerate*}\n",
       "\\item 1\n",
       "\\item 2\n",
       "\\item 1\n",
       "\\item 2\n",
       "\\item 1\n",
       "\\item 3\n",
       "\\item 2\n",
       "\\item 3\n",
       "\\item 2\n",
       "\\item 3\n",
       "\\item 1\n",
       "\\item 3\n",
       "\\end{enumerate*}\n"
      ],
      "text/markdown": [
       "1. 1\n",
       "2. 2\n",
       "3. 1\n",
       "4. 2\n",
       "5. 1\n",
       "6. 3\n",
       "7. 2\n",
       "8. 3\n",
       "9. 2\n",
       "10. 3\n",
       "11. 1\n",
       "12. 3\n",
       "\n",
       "\n"
      ],
      "text/plain": [
       " [1] 1 2 1 2 1 3 2 3 2 3 1 3\n",
       "attr(,\"levels\")\n",
       "[1] \"Employed\"      \"Unemployed\"    \"Self-Employed\""
      ]
     },
     "metadata": {},
     "output_type": "display_data"
    }
   ],
   "source": [
    "unclass(emp_status)"
   ]
  },
  {
   "cell_type": "code",
   "execution_count": 3,
   "metadata": {},
   "outputs": [],
   "source": [
    "#### End solution ####"
   ]
  },
  {
   "cell_type": "markdown",
   "metadata": {},
   "source": [
    "### Question 3\n",
    "**Create a dataframe object called bank_customers:**\n",
    "1. the data frame will have three columns: CustomerID, hasAccount, totalBalance\n",
    "2. Fill the data as follows\n",
    "    a. Alicia does not have an account. She is here for inquiry \n",
    "    b. Nancy is here to check on her account balance of USD 10,000.\n",
    "    c. Fernando is here to deposit USD 100 in his account which had no balance.\n",
    "    d. Louis will withdraw all his money from the account that had USD 2,000. \n",
    "    e. Diane is here for information. \n",
    "3. For customers that do not have a value, use NA as placeholder.\n",
    "4. Print the number of rows, columns and names for the data frame."
   ]
  },
  {
   "cell_type": "code",
   "execution_count": null,
   "metadata": {},
   "outputs": [],
   "source": [
    "#### Start solution ####"
   ]
  },
  {
   "cell_type": "code",
   "execution_count": 54,
   "metadata": {},
   "outputs": [
    {
     "data": {
      "text/html": [
       "<table>\n",
       "<thead><tr><th scope=col>CustomerID</th><th scope=col>hasAccount</th><th scope=col>totalBalance</th></tr></thead>\n",
       "<tbody>\n",
       "\t<tr><td>NA</td><td>NA</td><td>NA</td></tr>\n",
       "\t<tr><td>NA</td><td>NA</td><td>NA</td></tr>\n",
       "\t<tr><td>NA</td><td>NA</td><td>NA</td></tr>\n",
       "\t<tr><td>NA</td><td>NA</td><td>NA</td></tr>\n",
       "\t<tr><td>NA</td><td>NA</td><td>NA</td></tr>\n",
       "</tbody>\n",
       "</table>\n"
      ],
      "text/latex": [
       "\\begin{tabular}{r|lll}\n",
       " CustomerID & hasAccount & totalBalance\\\\\n",
       "\\hline\n",
       "\t NA & NA & NA\\\\\n",
       "\t NA & NA & NA\\\\\n",
       "\t NA & NA & NA\\\\\n",
       "\t NA & NA & NA\\\\\n",
       "\t NA & NA & NA\\\\\n",
       "\\end{tabular}\n"
      ],
      "text/markdown": [
       "\n",
       "| CustomerID | hasAccount | totalBalance |\n",
       "|---|---|---|\n",
       "| NA | NA | NA |\n",
       "| NA | NA | NA |\n",
       "| NA | NA | NA |\n",
       "| NA | NA | NA |\n",
       "| NA | NA | NA |\n",
       "\n"
      ],
      "text/plain": [
       "  CustomerID hasAccount totalBalance\n",
       "1 NA         NA         NA          \n",
       "2 NA         NA         NA          \n",
       "3 NA         NA         NA          \n",
       "4 NA         NA         NA          \n",
       "5 NA         NA         NA          "
      ]
     },
     "metadata": {},
     "output_type": "display_data"
    }
   ],
   "source": [
    "df <- data.frame(matrix(ncol = 3, nrow = 5))\n",
    "colnames(df) <- c(\"CustomerID\", \"hasAccount\", \"totalBalance\")\n",
    "row.names(df) = c(\"a\",\"b\",\"c\",\"d\",\"e\")\n",
    "df"
   ]
  },
  {
   "cell_type": "code",
   "execution_count": 56,
   "metadata": {},
   "outputs": [
    {
     "data": {
      "text/html": [
       "<table>\n",
       "<thead><tr><th scope=col>CustomerID</th><th scope=col>hasAccount</th><th scope=col>totalBalance</th></tr></thead>\n",
       "<tbody>\n",
       "\t<tr><td>Alicia  </td><td>NA      </td><td>NA      </td></tr>\n",
       "\t<tr><td>Nancy   </td><td>NA      </td><td>NA      </td></tr>\n",
       "\t<tr><td>Fernando</td><td>NA      </td><td>NA      </td></tr>\n",
       "\t<tr><td>Louis   </td><td>NA      </td><td>NA      </td></tr>\n",
       "\t<tr><td>Diane   </td><td>NA      </td><td>NA      </td></tr>\n",
       "</tbody>\n",
       "</table>\n"
      ],
      "text/latex": [
       "\\begin{tabular}{r|lll}\n",
       " CustomerID & hasAccount & totalBalance\\\\\n",
       "\\hline\n",
       "\t Alicia   & NA       & NA      \\\\\n",
       "\t Nancy    & NA       & NA      \\\\\n",
       "\t Fernando & NA       & NA      \\\\\n",
       "\t Louis    & NA       & NA      \\\\\n",
       "\t Diane    & NA       & NA      \\\\\n",
       "\\end{tabular}\n"
      ],
      "text/markdown": [
       "\n",
       "| CustomerID | hasAccount | totalBalance |\n",
       "|---|---|---|\n",
       "| Alicia   | NA       | NA       |\n",
       "| Nancy    | NA       | NA       |\n",
       "| Fernando | NA       | NA       |\n",
       "| Louis    | NA       | NA       |\n",
       "| Diane    | NA       | NA       |\n",
       "\n"
      ],
      "text/plain": [
       "  CustomerID hasAccount totalBalance\n",
       "1 Alicia     NA         NA          \n",
       "2 Nancy      NA         NA          \n",
       "3 Fernando   NA         NA          \n",
       "4 Louis      NA         NA          \n",
       "5 Diane      NA         NA          "
      ]
     },
     "metadata": {},
     "output_type": "display_data"
    }
   ],
   "source": [
    "df[\"CustomerID\"]<-c(\"Alicia\", \"Nancy\", \"Fernando\",\"Louis\", \"Diane\" )\n",
    "df"
   ]
  },
  {
   "cell_type": "code",
   "execution_count": 57,
   "metadata": {},
   "outputs": [
    {
     "data": {
      "text/html": [
       "<table>\n",
       "<thead><tr><th scope=col>CustomerID</th><th scope=col>hasAccount</th><th scope=col>totalBalance</th></tr></thead>\n",
       "<tbody>\n",
       "\t<tr><td>Alicia  </td><td>NA      </td><td>NA      </td></tr>\n",
       "\t<tr><td>Nancy   </td><td>Yes     </td><td>NA      </td></tr>\n",
       "\t<tr><td>Fernando</td><td>Yes     </td><td>NA      </td></tr>\n",
       "\t<tr><td>Louis   </td><td>Yes     </td><td>NA      </td></tr>\n",
       "\t<tr><td>Diane   </td><td>NA      </td><td>NA      </td></tr>\n",
       "</tbody>\n",
       "</table>\n"
      ],
      "text/latex": [
       "\\begin{tabular}{r|lll}\n",
       " CustomerID & hasAccount & totalBalance\\\\\n",
       "\\hline\n",
       "\t Alicia   & NA       & NA      \\\\\n",
       "\t Nancy    & Yes      & NA      \\\\\n",
       "\t Fernando & Yes      & NA      \\\\\n",
       "\t Louis    & Yes      & NA      \\\\\n",
       "\t Diane    & NA       & NA      \\\\\n",
       "\\end{tabular}\n"
      ],
      "text/markdown": [
       "\n",
       "| CustomerID | hasAccount | totalBalance |\n",
       "|---|---|---|\n",
       "| Alicia   | NA       | NA       |\n",
       "| Nancy    | Yes      | NA       |\n",
       "| Fernando | Yes      | NA       |\n",
       "| Louis    | Yes      | NA       |\n",
       "| Diane    | NA       | NA       |\n",
       "\n"
      ],
      "text/plain": [
       "  CustomerID hasAccount totalBalance\n",
       "1 Alicia     NA         NA          \n",
       "2 Nancy      Yes        NA          \n",
       "3 Fernando   Yes        NA          \n",
       "4 Louis      Yes        NA          \n",
       "5 Diane      NA         NA          "
      ]
     },
     "metadata": {},
     "output_type": "display_data"
    }
   ],
   "source": [
    "df[\"hasAccount\"]<-c(NA, \"Yes\", \"Yes\",\"Yes\", NA )\n",
    "df"
   ]
  },
  {
   "cell_type": "code",
   "execution_count": 58,
   "metadata": {},
   "outputs": [
    {
     "data": {
      "text/html": [
       "<table>\n",
       "<thead><tr><th scope=col>CustomerID</th><th scope=col>hasAccount</th><th scope=col>totalBalance</th></tr></thead>\n",
       "<tbody>\n",
       "\t<tr><td>Alicia  </td><td>NA      </td><td>   NA   </td></tr>\n",
       "\t<tr><td>Nancy   </td><td>Yes     </td><td>10000   </td></tr>\n",
       "\t<tr><td>Fernando</td><td>Yes     </td><td>  100   </td></tr>\n",
       "\t<tr><td>Louis   </td><td>Yes     </td><td>   NA   </td></tr>\n",
       "\t<tr><td>Diane   </td><td>NA      </td><td>   NA   </td></tr>\n",
       "</tbody>\n",
       "</table>\n"
      ],
      "text/latex": [
       "\\begin{tabular}{r|lll}\n",
       " CustomerID & hasAccount & totalBalance\\\\\n",
       "\\hline\n",
       "\t Alicia   & NA       &    NA   \\\\\n",
       "\t Nancy    & Yes      & 10000   \\\\\n",
       "\t Fernando & Yes      &   100   \\\\\n",
       "\t Louis    & Yes      &    NA   \\\\\n",
       "\t Diane    & NA       &    NA   \\\\\n",
       "\\end{tabular}\n"
      ],
      "text/markdown": [
       "\n",
       "| CustomerID | hasAccount | totalBalance |\n",
       "|---|---|---|\n",
       "| Alicia   | NA       |    NA    |\n",
       "| Nancy    | Yes      | 10000    |\n",
       "| Fernando | Yes      |   100    |\n",
       "| Louis    | Yes      |    NA    |\n",
       "| Diane    | NA       |    NA    |\n",
       "\n"
      ],
      "text/plain": [
       "  CustomerID hasAccount totalBalance\n",
       "1 Alicia     NA            NA       \n",
       "2 Nancy      Yes        10000       \n",
       "3 Fernando   Yes          100       \n",
       "4 Louis      Yes           NA       \n",
       "5 Diane      NA            NA       "
      ]
     },
     "metadata": {},
     "output_type": "display_data"
    }
   ],
   "source": [
    "df[\"totalBalance\"]<-c(NA, 10000, 100,NA, NA )\n",
    "df"
   ]
  },
  {
   "cell_type": "code",
   "execution_count": 73,
   "metadata": {},
   "outputs": [
    {
     "data": {
      "text/html": [
       "5"
      ],
      "text/latex": [
       "5"
      ],
      "text/markdown": [
       "5"
      ],
      "text/plain": [
       "[1] 5"
      ]
     },
     "metadata": {},
     "output_type": "display_data"
    },
    {
     "data": {
      "text/html": [
       "3"
      ],
      "text/latex": [
       "3"
      ],
      "text/markdown": [
       "3"
      ],
      "text/plain": [
       "[1] 3"
      ]
     },
     "metadata": {},
     "output_type": "display_data"
    },
    {
     "data": {
      "text/html": [
       "<ol class=list-inline>\n",
       "\t<li>'CustomerID'</li>\n",
       "\t<li>'hasAccount'</li>\n",
       "\t<li>'totalBalance'</li>\n",
       "</ol>\n"
      ],
      "text/latex": [
       "\\begin{enumerate*}\n",
       "\\item 'CustomerID'\n",
       "\\item 'hasAccount'\n",
       "\\item 'totalBalance'\n",
       "\\end{enumerate*}\n"
      ],
      "text/markdown": [
       "1. 'CustomerID'\n",
       "2. 'hasAccount'\n",
       "3. 'totalBalance'\n",
       "\n",
       "\n"
      ],
      "text/plain": [
       "[1] \"CustomerID\"   \"hasAccount\"   \"totalBalance\""
      ]
     },
     "metadata": {},
     "output_type": "display_data"
    },
    {
     "data": {
      "text/html": [
       "<ol class=list-inline>\n",
       "\t<li>'a'</li>\n",
       "\t<li>'b'</li>\n",
       "\t<li>'c'</li>\n",
       "\t<li>'d'</li>\n",
       "\t<li>'e'</li>\n",
       "</ol>\n"
      ],
      "text/latex": [
       "\\begin{enumerate*}\n",
       "\\item 'a'\n",
       "\\item 'b'\n",
       "\\item 'c'\n",
       "\\item 'd'\n",
       "\\item 'e'\n",
       "\\end{enumerate*}\n"
      ],
      "text/markdown": [
       "1. 'a'\n",
       "2. 'b'\n",
       "3. 'c'\n",
       "4. 'd'\n",
       "5. 'e'\n",
       "\n",
       "\n"
      ],
      "text/plain": [
       "[1] \"a\" \"b\" \"c\" \"d\" \"e\""
      ]
     },
     "metadata": {},
     "output_type": "display_data"
    }
   ],
   "source": [
    "nrow(df)\n",
    "ncol(df)\n",
    "colnames(df)\n",
    "rownames(df)\n"
   ]
  },
  {
   "cell_type": "code",
   "execution_count": 71,
   "metadata": {},
   "outputs": [],
   "source": [
    "#### End solution ####"
   ]
  },
  {
   "cell_type": "markdown",
   "metadata": {},
   "source": [
    "### Good Job! You have successfully completed the section!"
   ]
  },
  {
   "cell_type": "markdown",
   "metadata": {},
   "source": [
    "## Section 2: Control Structures "
   ]
  },
  {
   "cell_type": "markdown",
   "metadata": {},
   "source": [
    "### Question 1\n",
    "**Create a variable containing a sequence of numbers from 1 to 100:**\n",
    "1. Iterate over the variables and print those numbers which are prime.\n",
    "\n",
    "**Create a variable var with a value of 1:**\n",
    "1. Create a while loop and increase the value of var at each iteration. \n",
    "2. When you reach the 10th prime number, terminate the loop and print the number."
   ]
  },
  {
   "cell_type": "code",
   "execution_count": 5,
   "metadata": {},
   "outputs": [],
   "source": [
    "#### Start solution ####"
   ]
  },
  {
   "cell_type": "code",
   "execution_count": null,
   "metadata": {},
   "outputs": [],
   "source": [
    "x <- seq(1:100)\n",
    "x"
   ]
  },
  {
   "cell_type": "code",
   "execution_count": null,
   "metadata": {},
   "outputs": [],
   "source": [
    "p_num <- c(2)\n",
    "print(paste(2, \"is a prime number\"))\n",
    "\n",
    "for(num in x){\n",
    "  count <- 0\n",
    "  \n",
    "  for(i in 2:(num/2)){\n",
    "    if(num%%i == 0){\n",
    "      count <- count+1\n",
    "      break\n",
    "    }\n",
    "  }\n",
    "  if(count == 0 && num != 1 )    {\n",
    "    print(paste(num, \"is a prime number\"))\n",
    "    p_num <- append(p_num, num)\n",
    "  }  \n",
    "}\n",
    "\n",
    "\n",
    "print(p_num)"
   ]
  },
  {
   "cell_type": "code",
   "execution_count": null,
   "metadata": {},
   "outputs": [],
   "source": [
    "p_num <- c(2)\n",
    "print(paste(2, \"is a prime number\"))\n",
    "var <- 1\n",
    "a <- 1\n",
    "while(a != 0){\n",
    "for(num in x){\n",
    "    count <- 0\n",
    "  \n",
    "  for(i in 2:(num/2)){\n",
    "    if(num%%i == 0){\n",
    "      count <- count+1\n",
    "      break\n",
    "    }\n",
    "  }\n",
    "  if(count == 0 && num != 1 )    {\n",
    "    print(paste(num, \"is a prime number\"))\n",
    "    p_num <- append(p_num, num)\n",
    "    print(length(p_num))\n",
    "   \n",
    "    }\n",
    "\n",
    "  if(length(p_num)==10){\n",
    "    a = 0\n",
    "    break\n",
    "  }\n",
    "    var <- var + 1\n",
    "}\n",
    "  \n",
    "}\n",
    "\n",
    "print(paste(var, \"is a value of variable var when we reach 10th prime number\"))\n",
    "print(paste(p_num, \"is a list\")"
   ]
  },
  {
   "cell_type": "code",
   "execution_count": null,
   "metadata": {},
   "outputs": [],
   "source": [
    "#### End solution ####"
   ]
  },
  {
   "cell_type": "markdown",
   "metadata": {},
   "source": [
    "### Question 2\n",
    "**Create a matrix of size 3x3 called mat_1:**\n",
    "1. Iterate over all the values one by one and print the element as well as the position in the matrix (row, col)"
   ]
  },
  {
   "cell_type": "code",
   "execution_count": 9,
   "metadata": {},
   "outputs": [],
   "source": [
    "#### Start solution ####"
   ]
  },
  {
   "cell_type": "code",
   "execution_count": null,
   "metadata": {},
   "outputs": [],
   "source": [
    "mat <- matrix(1:9 , nrow =3, ncol = 3)"
   ]
  },
  {
   "cell_type": "code",
   "execution_count": null,
   "metadata": {},
   "outputs": [],
   "source": [
    "print(seq_len(nrow(mat)))"
   ]
  },
  {
   "cell_type": "code",
   "execution_count": null,
   "metadata": {},
   "outputs": [],
   "source": [
    "print(seq_len(ncol(mat)))"
   ]
  },
  {
   "cell_type": "code",
   "execution_count": null,
   "metadata": {},
   "outputs": [],
   "source": [
    "for(i in seq_len(nrow(mat))){\n",
    "  for(j in seq_len(ncol(mat))){\n",
    "    print(paste(\"At position\", i, \"&\", j, \"matrix element is:\", mat[i,j]))\n",
    "  }\n",
    "}"
   ]
  },
  {
   "cell_type": "code",
   "execution_count": null,
   "metadata": {},
   "outputs": [],
   "source": [
    "#### End solution ####"
   ]
  },
  {
   "cell_type": "markdown",
   "metadata": {},
   "source": [
    "### Good Job! You have successfully completed the section!"
   ]
  },
  {
   "cell_type": "markdown",
   "metadata": {},
   "source": [
    "## Section 3: Functions"
   ]
  },
  {
   "cell_type": "markdown",
   "metadata": {},
   "source": [
    "### Question 1\n",
    "**Create a function called gcd that finds the greatest common divisor of two numbers a and b:**\n",
    "1. a and b, should be taken as input.\n",
    "2. The function must print the GCD as well as return it.\n",
    "3. The output must be saved in a variable called answer."
   ]
  },
  {
   "cell_type": "code",
   "execution_count": 9,
   "metadata": {},
   "outputs": [],
   "source": [
    "#### Start solution ####"
   ]
  },
  {
   "cell_type": "code",
   "execution_count": null,
   "metadata": {},
   "outputs": [],
   "source": [
    "\n",
    "gcd <- function(a,b){\n",
    "  \n",
    "  if(a<b){\n",
    "    max <- b\n",
    "  }   else{\n",
    "    max <- a\n",
    "  }\n",
    "  \n",
    "  \n",
    "  for(i in 1:max)  {\n",
    "    \n",
    "    if((a%%i)==0 && (b%%i)==0){\n",
    "      ans <- i\n",
    "    }\n",
    "    \n",
    "  }\n",
    "  \n",
    "  print(paste(\"G.C.D of\", a , \"and\", b, \"is\" ,ans))\n",
    "  return(ans)\n",
    "  \n",
    "}\n"
   ]
  },
  {
   "cell_type": "code",
   "execution_count": null,
   "metadata": {},
   "outputs": [],
   "source": [
    "print(\"please enter two numbers\")\n",
    "n1 <- scan()\n",
    "n2 <- scan()\n",
    "gcd(n1,n2)\n",
    "value <- gcd(n1,n2)"
   ]
  },
  {
   "cell_type": "code",
   "execution_count": 14,
   "metadata": {},
   "outputs": [],
   "source": [
    "#### End solution ####"
   ]
  },
  {
   "cell_type": "markdown",
   "metadata": {},
   "source": [
    "### Question 2\n",
    "**Create a function called allConditionsMeet, that checks whether two expressions evaluate to true:**\n",
    "1. a and b, should be taken as input.\n",
    "2. the function should check if a and b, both conditions, evaluate to True.\n",
    "3. The function must returns a boolean value.\n",
    "4. Using a method, print the arguments that function takes."
   ]
  },
  {
   "cell_type": "code",
   "execution_count": 9,
   "metadata": {},
   "outputs": [],
   "source": [
    "#### Start solution ####"
   ]
  },
  {
   "cell_type": "code",
   "execution_count": null,
   "metadata": {},
   "outputs": [],
   "source": [
    "allconditionsmeet <- function(a,b){\n",
    "  \n",
    "  if(a > 0 && b > 0) {\n",
    "    return(TRUE)\n",
    "  }else{\n",
    "    return(FALSE)\n",
    "  }\n",
    "}\n"
   ]
  },
  {
   "cell_type": "code",
   "execution_count": null,
   "metadata": {},
   "outputs": [],
   "source": [
    "print(\"Enter first number:\")\n",
    "a <- as.integer(readline())\n",
    "print(a)\n",
    "print(\"Enter second number:\")\n",
    "b <- as.integer(readline())\n",
    "print(b)\n",
    "\n",
    "result = allconditionsmeet(a,b)\n",
    "print(paste(\"Result is\", result))"
   ]
  },
  {
   "cell_type": "code",
   "execution_count": 14,
   "metadata": {},
   "outputs": [],
   "source": [
    "#### End solution ####"
   ]
  },
  {
   "cell_type": "markdown",
   "metadata": {},
   "source": [
    "### Good Job! You have successfully completed the section!"
   ]
  },
  {
   "cell_type": "markdown",
   "metadata": {},
   "source": [
    "## Section 4: Vectorized Operations"
   ]
  },
  {
   "cell_type": "markdown",
   "metadata": {},
   "source": [
    "### Question 1\n",
    "**Create two matrices matrix_1 and matrix_2 of dimensions 2x3 and 3x2:**\n",
    "1. Perform element-wise multiplication.\n",
    "2. Perform matrix multipilcation. \n",
    "\n",
    "**Create a 2x2 matrix my_mat:**\n",
    "1. Write a function to find the determinant of the matrix."
   ]
  },
  {
   "cell_type": "code",
   "execution_count": 9,
   "metadata": {},
   "outputs": [],
   "source": [
    "#### Start solution ####"
   ]
  },
  {
   "cell_type": "code",
   "execution_count": 8,
   "metadata": {},
   "outputs": [
    {
     "data": {
      "text/html": [
       "<table>\n",
       "<tbody>\n",
       "\t<tr><td>2 </td><td>6 </td><td>10</td></tr>\n",
       "\t<tr><td>4 </td><td>8 </td><td>12</td></tr>\n",
       "</tbody>\n",
       "</table>\n"
      ],
      "text/latex": [
       "\\begin{tabular}{lll}\n",
       "\t 2  & 6  & 10\\\\\n",
       "\t 4  & 8  & 12\\\\\n",
       "\\end{tabular}\n"
      ],
      "text/markdown": [
       "\n",
       "| 2  | 6  | 10 |\n",
       "| 4  | 8  | 12 |\n",
       "\n"
      ],
      "text/plain": [
       "     [,1] [,2] [,3]\n",
       "[1,] 2    6    10  \n",
       "[2,] 4    8    12  "
      ]
     },
     "metadata": {},
     "output_type": "display_data"
    },
    {
     "data": {
      "text/html": [
       "<table>\n",
       "<tbody>\n",
       "\t<tr><td> 4</td><td>16</td></tr>\n",
       "\t<tr><td> 8</td><td>20</td></tr>\n",
       "\t<tr><td>12</td><td>24</td></tr>\n",
       "</tbody>\n",
       "</table>\n"
      ],
      "text/latex": [
       "\\begin{tabular}{ll}\n",
       "\t  4 & 16\\\\\n",
       "\t  8 & 20\\\\\n",
       "\t 12 & 24\\\\\n",
       "\\end{tabular}\n"
      ],
      "text/markdown": [
       "\n",
       "|  4 | 16 |\n",
       "|  8 | 20 |\n",
       "| 12 | 24 |\n",
       "\n"
      ],
      "text/plain": [
       "     [,1] [,2]\n",
       "[1,]  4   16  \n",
       "[2,]  8   20  \n",
       "[3,] 12   24  "
      ]
     },
     "metadata": {},
     "output_type": "display_data"
    }
   ],
   "source": [
    "matrix_1 <- matrix(2*(1:6), 2, 3); matrix_2 <- matrix(4*(1:6), 3, 2)\n",
    "matrix_1\n",
    "matrix_2"
   ]
  },
  {
   "cell_type": "code",
   "execution_count": 9,
   "metadata": {},
   "outputs": [
    {
     "ename": "ERROR",
     "evalue": "Error in matrix_1 * matrix_2: non-conformable arrays\n",
     "output_type": "error",
     "traceback": [
      "Error in matrix_1 * matrix_2: non-conformable arrays\nTraceback:\n"
     ]
    }
   ],
   "source": [
    "matrix_1*matrix_2"
   ]
  },
  {
   "cell_type": "code",
   "execution_count": 10,
   "metadata": {},
   "outputs": [
    {
     "data": {
      "text/html": [
       "<table>\n",
       "<tbody>\n",
       "\t<tr><td>176</td><td>392</td></tr>\n",
       "\t<tr><td>224</td><td>512</td></tr>\n",
       "</tbody>\n",
       "</table>\n"
      ],
      "text/latex": [
       "\\begin{tabular}{ll}\n",
       "\t 176 & 392\\\\\n",
       "\t 224 & 512\\\\\n",
       "\\end{tabular}\n"
      ],
      "text/markdown": [
       "\n",
       "| 176 | 392 |\n",
       "| 224 | 512 |\n",
       "\n"
      ],
      "text/plain": [
       "     [,1] [,2]\n",
       "[1,] 176  392 \n",
       "[2,] 224  512 "
      ]
     },
     "metadata": {},
     "output_type": "display_data"
    }
   ],
   "source": [
    "matrix_1%*%matrix_2"
   ]
  },
  {
   "cell_type": "code",
   "execution_count": 11,
   "metadata": {},
   "outputs": [
    {
     "data": {
      "text/html": [
       "<table>\n",
       "<tbody>\n",
       "\t<tr><td>3 </td><td> 9</td></tr>\n",
       "\t<tr><td>6 </td><td>12</td></tr>\n",
       "</tbody>\n",
       "</table>\n"
      ],
      "text/latex": [
       "\\begin{tabular}{ll}\n",
       "\t 3  &  9\\\\\n",
       "\t 6  & 12\\\\\n",
       "\\end{tabular}\n"
      ],
      "text/markdown": [
       "\n",
       "| 3  |  9 |\n",
       "| 6  | 12 |\n",
       "\n"
      ],
      "text/plain": [
       "     [,1] [,2]\n",
       "[1,] 3     9  \n",
       "[2,] 6    12  "
      ]
     },
     "metadata": {},
     "output_type": "display_data"
    }
   ],
   "source": [
    "my_mat <-matrix(3*(1:4), 2,2)\n",
    "my_mat\n"
   ]
  },
  {
   "cell_type": "code",
   "execution_count": 12,
   "metadata": {},
   "outputs": [
    {
     "data": {
      "text/html": [
       "-18"
      ],
      "text/latex": [
       "-18"
      ],
      "text/markdown": [
       "-18"
      ],
      "text/plain": [
       "[1] -18"
      ]
     },
     "metadata": {},
     "output_type": "display_data"
    }
   ],
   "source": [
    "det(my_mat)"
   ]
  },
  {
   "cell_type": "code",
   "execution_count": 14,
   "metadata": {},
   "outputs": [],
   "source": [
    "#### End solution ####"
   ]
  },
  {
   "cell_type": "markdown",
   "metadata": {},
   "source": [
    "### Good Job! You have successfully completed the section!"
   ]
  },
  {
   "cell_type": "markdown",
   "metadata": {},
   "source": [
    "## Section 5: Date and Time in R"
   ]
  },
  {
   "cell_type": "markdown",
   "metadata": {},
   "source": [
    "### Question 1\n",
    "**Use the current date and time and store them into variables curr_date and curr_time respectively: [use sys]**\n",
    "1. Convert both into date and time objects using the appropriate functions.\n",
    "2. Print the weekday, year, second and hour using the appropriate function and variables."
   ]
  },
  {
   "cell_type": "code",
   "execution_count": 9,
   "metadata": {},
   "outputs": [],
   "source": [
    "#### Start solution ####"
   ]
  },
  {
   "cell_type": "code",
   "execution_count": 21,
   "metadata": {},
   "outputs": [
    {
     "data": {
      "text/plain": [
       "[1] \"2021-09-23 17:39:20 PKT\""
      ]
     },
     "metadata": {},
     "output_type": "display_data"
    }
   ],
   "source": [
    "x <- Sys.time()\n",
    "x"
   ]
  },
  {
   "cell_type": "code",
   "execution_count": 22,
   "metadata": {},
   "outputs": [
    {
     "data": {
      "text/plain": [
       "[1] \"2021-09-23 17:39:20 PKT\""
      ]
     },
     "metadata": {},
     "output_type": "display_data"
    }
   ],
   "source": [
    "p <-as.POSIXlt(x)\n",
    "p"
   ]
  },
  {
   "cell_type": "code",
   "execution_count": 23,
   "metadata": {},
   "outputs": [
    {
     "data": {
      "text/html": [
       "<time datetime=\"2021-09-23\">2021-09-23</time>"
      ],
      "text/latex": [
       "2021-09-23"
      ],
      "text/markdown": [
       "2021-09-23"
      ],
      "text/plain": [
       "[1] \"2021-09-23\""
      ]
     },
     "metadata": {},
     "output_type": "display_data"
    }
   ],
   "source": [
    "curr_date = as.Date(p, \"%m/%d/%Y\")\n",
    "curr_date"
   ]
  },
  {
   "cell_type": "code",
   "execution_count": 24,
   "metadata": {},
   "outputs": [
    {
     "data": {
      "text/html": [
       "'17:39:20'"
      ],
      "text/latex": [
       "'17:39:20'"
      ],
      "text/markdown": [
       "'17:39:20'"
      ],
      "text/plain": [
       "[1] \"17:39:20\""
      ]
     },
     "metadata": {},
     "output_type": "display_data"
    }
   ],
   "source": [
    "curr_time = format(x, \"%H:%M:%S\")\n",
    "curr_time"
   ]
  },
  {
   "cell_type": "code",
   "execution_count": 25,
   "metadata": {},
   "outputs": [
    {
     "name": "stdout",
     "output_type": "stream",
     "text": [
      "[1] \"weekday: 4\"\n",
      "[1] \"year: 121\"\n",
      "[1] \"sec: 20.3644390106201\"\n",
      "[1] \"hour: 17\"\n"
     ]
    }
   ],
   "source": [
    "print(paste(\"weekday:\", p$wday))\n",
    "print(paste(\"year:\", p$year))\n",
    "print(paste(\"sec:\", p$sec))\n",
    "print(paste(\"hour:\", p$hour))"
   ]
  },
  {
   "cell_type": "code",
   "execution_count": 14,
   "metadata": {},
   "outputs": [],
   "source": [
    "#### End solution ####"
   ]
  },
  {
   "cell_type": "markdown",
   "metadata": {},
   "source": [
    "### Question 2\n",
    "**Create a variable to store current date/time**\n",
    "1. Create another variable that stores and set the timezone as GMT-5\n",
    "2. Find the difference between your current time and the GMT-5 timezone."
   ]
  },
  {
   "cell_type": "code",
   "execution_count": 9,
   "metadata": {},
   "outputs": [],
   "source": [
    "#### Start solution ####"
   ]
  },
  {
   "cell_type": "code",
   "execution_count": 2,
   "metadata": {},
   "outputs": [
    {
     "data": {
      "text/plain": [
       "[1] \"2021-09-23 17:48:34 +05\""
      ]
     },
     "metadata": {},
     "output_type": "display_data"
    }
   ],
   "source": [
    "GMT_time <- as.POSIXct(\"2021-09-23 17:48:34\", tz= \"Etc/GMT-5\")\n",
    "GMT_time"
   ]
  },
  {
   "cell_type": "code",
   "execution_count": 3,
   "metadata": {},
   "outputs": [
    {
     "data": {
      "text/plain": [
       "[1] \"2021-09-24 14:47:01 PKT\""
      ]
     },
     "metadata": {},
     "output_type": "display_data"
    }
   ],
   "source": [
    "my_timezone = Sys.time()\n",
    "my_timezone "
   ]
  },
  {
   "cell_type": "code",
   "execution_count": 4,
   "metadata": {},
   "outputs": [
    {
     "data": {
      "text/plain": [
       "Time difference of 20.9742 hours"
      ]
     },
     "metadata": {},
     "output_type": "display_data"
    }
   ],
   "source": [
    "my_timezone - GMT_time"
   ]
  },
  {
   "cell_type": "code",
   "execution_count": 14,
   "metadata": {},
   "outputs": [],
   "source": [
    "#### End solution ####"
   ]
  },
  {
   "cell_type": "markdown",
   "metadata": {},
   "source": [
    "### Good Job! You have successfully completed the section!"
   ]
  },
  {
   "cell_type": "markdown",
   "metadata": {},
   "source": [
    "## Section 6: Loop Functions"
   ]
  },
  {
   "cell_type": "markdown",
   "metadata": {},
   "source": [
    "### Question 1\n",
    "**Create a function to calculate mean and standard deviation of the provided data**\n",
    "1. Create a sequence of numbers from 100 to 150 store in a variable called numbers.\n",
    "1. Use lapply, sapply, apply and tapply to implement the functions on \"numbers\" [only on the second half of the sequence for tapply]"
   ]
  },
  {
   "cell_type": "code",
   "execution_count": 9,
   "metadata": {},
   "outputs": [],
   "source": [
    "#### Start solution ####"
   ]
  },
  {
   "cell_type": "code",
   "execution_count": 8,
   "metadata": {},
   "outputs": [
    {
     "data": {
      "text/html": [
       "<ol>\n",
       "\t<li><ol class=list-inline>\n",
       "\t<li>100</li>\n",
       "\t<li>101</li>\n",
       "\t<li>102</li>\n",
       "\t<li>103</li>\n",
       "\t<li>104</li>\n",
       "\t<li>105</li>\n",
       "\t<li>106</li>\n",
       "\t<li>107</li>\n",
       "\t<li>108</li>\n",
       "\t<li>109</li>\n",
       "\t<li>110</li>\n",
       "\t<li>111</li>\n",
       "\t<li>112</li>\n",
       "\t<li>113</li>\n",
       "\t<li>114</li>\n",
       "\t<li>115</li>\n",
       "\t<li>116</li>\n",
       "\t<li>117</li>\n",
       "\t<li>118</li>\n",
       "\t<li>119</li>\n",
       "\t<li>120</li>\n",
       "\t<li>121</li>\n",
       "\t<li>122</li>\n",
       "\t<li>123</li>\n",
       "\t<li>124</li>\n",
       "\t<li>125</li>\n",
       "\t<li>126</li>\n",
       "\t<li>127</li>\n",
       "\t<li>128</li>\n",
       "\t<li>129</li>\n",
       "\t<li>130</li>\n",
       "\t<li>131</li>\n",
       "\t<li>132</li>\n",
       "\t<li>133</li>\n",
       "\t<li>134</li>\n",
       "\t<li>135</li>\n",
       "\t<li>136</li>\n",
       "\t<li>137</li>\n",
       "\t<li>138</li>\n",
       "\t<li>139</li>\n",
       "\t<li>140</li>\n",
       "\t<li>141</li>\n",
       "\t<li>142</li>\n",
       "\t<li>143</li>\n",
       "\t<li>144</li>\n",
       "\t<li>145</li>\n",
       "\t<li>146</li>\n",
       "\t<li>147</li>\n",
       "\t<li>148</li>\n",
       "\t<li>149</li>\n",
       "\t<li>150</li>\n",
       "</ol>\n",
       "</li>\n",
       "</ol>\n"
      ],
      "text/latex": [
       "\\begin{enumerate}\n",
       "\\item \\begin{enumerate*}\n",
       "\\item 100\n",
       "\\item 101\n",
       "\\item 102\n",
       "\\item 103\n",
       "\\item 104\n",
       "\\item 105\n",
       "\\item 106\n",
       "\\item 107\n",
       "\\item 108\n",
       "\\item 109\n",
       "\\item 110\n",
       "\\item 111\n",
       "\\item 112\n",
       "\\item 113\n",
       "\\item 114\n",
       "\\item 115\n",
       "\\item 116\n",
       "\\item 117\n",
       "\\item 118\n",
       "\\item 119\n",
       "\\item 120\n",
       "\\item 121\n",
       "\\item 122\n",
       "\\item 123\n",
       "\\item 124\n",
       "\\item 125\n",
       "\\item 126\n",
       "\\item 127\n",
       "\\item 128\n",
       "\\item 129\n",
       "\\item 130\n",
       "\\item 131\n",
       "\\item 132\n",
       "\\item 133\n",
       "\\item 134\n",
       "\\item 135\n",
       "\\item 136\n",
       "\\item 137\n",
       "\\item 138\n",
       "\\item 139\n",
       "\\item 140\n",
       "\\item 141\n",
       "\\item 142\n",
       "\\item 143\n",
       "\\item 144\n",
       "\\item 145\n",
       "\\item 146\n",
       "\\item 147\n",
       "\\item 148\n",
       "\\item 149\n",
       "\\item 150\n",
       "\\end{enumerate*}\n",
       "\n",
       "\\end{enumerate}\n"
      ],
      "text/markdown": [
       "1. 1. 100\n",
       "2. 101\n",
       "3. 102\n",
       "4. 103\n",
       "5. 104\n",
       "6. 105\n",
       "7. 106\n",
       "8. 107\n",
       "9. 108\n",
       "10. 109\n",
       "11. 110\n",
       "12. 111\n",
       "13. 112\n",
       "14. 113\n",
       "15. 114\n",
       "16. 115\n",
       "17. 116\n",
       "18. 117\n",
       "19. 118\n",
       "20. 119\n",
       "21. 120\n",
       "22. 121\n",
       "23. 122\n",
       "24. 123\n",
       "25. 124\n",
       "26. 125\n",
       "27. 126\n",
       "28. 127\n",
       "29. 128\n",
       "30. 129\n",
       "31. 130\n",
       "32. 131\n",
       "33. 132\n",
       "34. 133\n",
       "35. 134\n",
       "36. 135\n",
       "37. 136\n",
       "38. 137\n",
       "39. 138\n",
       "40. 139\n",
       "41. 140\n",
       "42. 141\n",
       "43. 142\n",
       "44. 143\n",
       "45. 144\n",
       "46. 145\n",
       "47. 146\n",
       "48. 147\n",
       "49. 148\n",
       "50. 149\n",
       "51. 150\n",
       "\n",
       "\n",
       "\n",
       "\n",
       "\n"
      ],
      "text/plain": [
       "[[1]]\n",
       " [1] 100 101 102 103 104 105 106 107 108 109 110 111 112 113 114 115 116 117 118\n",
       "[20] 119 120 121 122 123 124 125 126 127 128 129 130 131 132 133 134 135 136 137\n",
       "[39] 138 139 140 141 142 143 144 145 146 147 148 149 150\n"
      ]
     },
     "metadata": {},
     "output_type": "display_data"
    }
   ],
   "source": [
    "numbers <- list(seq(100, 150))\n",
    "numbers"
   ]
  },
  {
   "cell_type": "code",
   "execution_count": 17,
   "metadata": {},
   "outputs": [
    {
     "data": {
      "text/html": [
       "<table>\n",
       "<tbody>\n",
       "\t<tr><td>100</td></tr>\n",
       "\t<tr><td>101</td></tr>\n",
       "\t<tr><td>102</td></tr>\n",
       "\t<tr><td>103</td></tr>\n",
       "\t<tr><td>104</td></tr>\n",
       "\t<tr><td>105</td></tr>\n",
       "\t<tr><td>106</td></tr>\n",
       "\t<tr><td>107</td></tr>\n",
       "\t<tr><td>108</td></tr>\n",
       "\t<tr><td>109</td></tr>\n",
       "\t<tr><td>110</td></tr>\n",
       "\t<tr><td>111</td></tr>\n",
       "\t<tr><td>112</td></tr>\n",
       "\t<tr><td>113</td></tr>\n",
       "\t<tr><td>114</td></tr>\n",
       "\t<tr><td>115</td></tr>\n",
       "\t<tr><td>116</td></tr>\n",
       "\t<tr><td>117</td></tr>\n",
       "\t<tr><td>118</td></tr>\n",
       "\t<tr><td>119</td></tr>\n",
       "\t<tr><td>120</td></tr>\n",
       "\t<tr><td>121</td></tr>\n",
       "\t<tr><td>122</td></tr>\n",
       "\t<tr><td>123</td></tr>\n",
       "\t<tr><td>124</td></tr>\n",
       "\t<tr><td>125</td></tr>\n",
       "\t<tr><td>126</td></tr>\n",
       "\t<tr><td>127</td></tr>\n",
       "\t<tr><td>128</td></tr>\n",
       "\t<tr><td>129</td></tr>\n",
       "\t<tr><td>130</td></tr>\n",
       "\t<tr><td>131</td></tr>\n",
       "\t<tr><td>132</td></tr>\n",
       "\t<tr><td>133</td></tr>\n",
       "\t<tr><td>134</td></tr>\n",
       "\t<tr><td>135</td></tr>\n",
       "\t<tr><td>136</td></tr>\n",
       "\t<tr><td>137</td></tr>\n",
       "\t<tr><td>138</td></tr>\n",
       "\t<tr><td>139</td></tr>\n",
       "\t<tr><td>140</td></tr>\n",
       "\t<tr><td>141</td></tr>\n",
       "\t<tr><td>142</td></tr>\n",
       "\t<tr><td>143</td></tr>\n",
       "\t<tr><td>144</td></tr>\n",
       "\t<tr><td>145</td></tr>\n",
       "\t<tr><td>146</td></tr>\n",
       "\t<tr><td>147</td></tr>\n",
       "\t<tr><td>148</td></tr>\n",
       "\t<tr><td>149</td></tr>\n",
       "\t<tr><td>150</td></tr>\n",
       "</tbody>\n",
       "</table>\n"
      ],
      "text/latex": [
       "\\begin{tabular}{l}\n",
       "\t 100\\\\\n",
       "\t 101\\\\\n",
       "\t 102\\\\\n",
       "\t 103\\\\\n",
       "\t 104\\\\\n",
       "\t 105\\\\\n",
       "\t 106\\\\\n",
       "\t 107\\\\\n",
       "\t 108\\\\\n",
       "\t 109\\\\\n",
       "\t 110\\\\\n",
       "\t 111\\\\\n",
       "\t 112\\\\\n",
       "\t 113\\\\\n",
       "\t 114\\\\\n",
       "\t 115\\\\\n",
       "\t 116\\\\\n",
       "\t 117\\\\\n",
       "\t 118\\\\\n",
       "\t 119\\\\\n",
       "\t 120\\\\\n",
       "\t 121\\\\\n",
       "\t 122\\\\\n",
       "\t 123\\\\\n",
       "\t 124\\\\\n",
       "\t 125\\\\\n",
       "\t 126\\\\\n",
       "\t 127\\\\\n",
       "\t 128\\\\\n",
       "\t 129\\\\\n",
       "\t 130\\\\\n",
       "\t 131\\\\\n",
       "\t 132\\\\\n",
       "\t 133\\\\\n",
       "\t 134\\\\\n",
       "\t 135\\\\\n",
       "\t 136\\\\\n",
       "\t 137\\\\\n",
       "\t 138\\\\\n",
       "\t 139\\\\\n",
       "\t 140\\\\\n",
       "\t 141\\\\\n",
       "\t 142\\\\\n",
       "\t 143\\\\\n",
       "\t 144\\\\\n",
       "\t 145\\\\\n",
       "\t 146\\\\\n",
       "\t 147\\\\\n",
       "\t 148\\\\\n",
       "\t 149\\\\\n",
       "\t 150\\\\\n",
       "\\end{tabular}\n"
      ],
      "text/markdown": [
       "\n",
       "| 100 |\n",
       "| 101 |\n",
       "| 102 |\n",
       "| 103 |\n",
       "| 104 |\n",
       "| 105 |\n",
       "| 106 |\n",
       "| 107 |\n",
       "| 108 |\n",
       "| 109 |\n",
       "| 110 |\n",
       "| 111 |\n",
       "| 112 |\n",
       "| 113 |\n",
       "| 114 |\n",
       "| 115 |\n",
       "| 116 |\n",
       "| 117 |\n",
       "| 118 |\n",
       "| 119 |\n",
       "| 120 |\n",
       "| 121 |\n",
       "| 122 |\n",
       "| 123 |\n",
       "| 124 |\n",
       "| 125 |\n",
       "| 126 |\n",
       "| 127 |\n",
       "| 128 |\n",
       "| 129 |\n",
       "| 130 |\n",
       "| 131 |\n",
       "| 132 |\n",
       "| 133 |\n",
       "| 134 |\n",
       "| 135 |\n",
       "| 136 |\n",
       "| 137 |\n",
       "| 138 |\n",
       "| 139 |\n",
       "| 140 |\n",
       "| 141 |\n",
       "| 142 |\n",
       "| 143 |\n",
       "| 144 |\n",
       "| 145 |\n",
       "| 146 |\n",
       "| 147 |\n",
       "| 148 |\n",
       "| 149 |\n",
       "| 150 |\n",
       "\n"
      ],
      "text/plain": [
       "      [,1]\n",
       " [1,] 100 \n",
       " [2,] 101 \n",
       " [3,] 102 \n",
       " [4,] 103 \n",
       " [5,] 104 \n",
       " [6,] 105 \n",
       " [7,] 106 \n",
       " [8,] 107 \n",
       " [9,] 108 \n",
       "[10,] 109 \n",
       "[11,] 110 \n",
       "[12,] 111 \n",
       "[13,] 112 \n",
       "[14,] 113 \n",
       "[15,] 114 \n",
       "[16,] 115 \n",
       "[17,] 116 \n",
       "[18,] 117 \n",
       "[19,] 118 \n",
       "[20,] 119 \n",
       "[21,] 120 \n",
       "[22,] 121 \n",
       "[23,] 122 \n",
       "[24,] 123 \n",
       "[25,] 124 \n",
       "[26,] 125 \n",
       "[27,] 126 \n",
       "[28,] 127 \n",
       "[29,] 128 \n",
       "[30,] 129 \n",
       "[31,] 130 \n",
       "[32,] 131 \n",
       "[33,] 132 \n",
       "[34,] 133 \n",
       "[35,] 134 \n",
       "[36,] 135 \n",
       "[37,] 136 \n",
       "[38,] 137 \n",
       "[39,] 138 \n",
       "[40,] 139 \n",
       "[41,] 140 \n",
       "[42,] 141 \n",
       "[43,] 142 \n",
       "[44,] 143 \n",
       "[45,] 144 \n",
       "[46,] 145 \n",
       "[47,] 146 \n",
       "[48,] 147 \n",
       "[49,] 148 \n",
       "[50,] 149 \n",
       "[51,] 150 "
      ]
     },
     "metadata": {},
     "output_type": "display_data"
    }
   ],
   "source": [
    "number <- matrix(seq(100, 150))\n",
    "number\n"
   ]
  },
  {
   "cell_type": "code",
   "execution_count": 13,
   "metadata": {},
   "outputs": [],
   "source": [
    "mean_fn <- function(x) mean(x)\n",
    "sd_fn <- function(x) sd(x)\n"
   ]
  },
  {
   "cell_type": "code",
   "execution_count": 14,
   "metadata": {},
   "outputs": [
    {
     "data": {
      "text/html": [
       "<ol>\n",
       "\t<li>125</li>\n",
       "</ol>\n"
      ],
      "text/latex": [
       "\\begin{enumerate}\n",
       "\\item 125\n",
       "\\end{enumerate}\n"
      ],
      "text/markdown": [
       "1. 125\n",
       "\n",
       "\n"
      ],
      "text/plain": [
       "[[1]]\n",
       "[1] 125\n"
      ]
     },
     "metadata": {},
     "output_type": "display_data"
    },
    {
     "data": {
      "text/html": [
       "<ol>\n",
       "\t<li>14.8660687473185</li>\n",
       "</ol>\n"
      ],
      "text/latex": [
       "\\begin{enumerate}\n",
       "\\item 14.8660687473185\n",
       "\\end{enumerate}\n"
      ],
      "text/markdown": [
       "1. 14.8660687473185\n",
       "\n",
       "\n"
      ],
      "text/plain": [
       "[[1]]\n",
       "[1] 14.86607\n"
      ]
     },
     "metadata": {},
     "output_type": "display_data"
    }
   ],
   "source": [
    "lapply(numbers , mean_fn)\n",
    "lapply(numbers , sd_fn)"
   ]
  },
  {
   "cell_type": "code",
   "execution_count": 21,
   "metadata": {},
   "outputs": [
    {
     "data": {
      "text/html": [
       "125"
      ],
      "text/latex": [
       "125"
      ],
      "text/markdown": [
       "125"
      ],
      "text/plain": [
       "[1] 125"
      ]
     },
     "metadata": {},
     "output_type": "display_data"
    },
    {
     "data": {
      "text/html": [
       "14.8660687473185"
      ],
      "text/latex": [
       "14.8660687473185"
      ],
      "text/markdown": [
       "14.8660687473185"
      ],
      "text/plain": [
       "[1] 14.86607"
      ]
     },
     "metadata": {},
     "output_type": "display_data"
    }
   ],
   "source": [
    "sapply(numbers , mean_fn)\n",
    "sapply(numbers , sd_fn)"
   ]
  },
  {
   "cell_type": "code",
   "execution_count": 22,
   "metadata": {},
   "outputs": [
    {
     "data": {
      "text/html": [
       "125"
      ],
      "text/latex": [
       "125"
      ],
      "text/markdown": [
       "125"
      ],
      "text/plain": [
       "[1] 125"
      ]
     },
     "metadata": {},
     "output_type": "display_data"
    },
    {
     "data": {
      "text/html": [
       "14.8660687473185"
      ],
      "text/latex": [
       "14.8660687473185"
      ],
      "text/markdown": [
       "14.8660687473185"
      ],
      "text/plain": [
       "[1] 14.86607"
      ]
     },
     "metadata": {},
     "output_type": "display_data"
    }
   ],
   "source": [
    "apply(number , 2, mean_fn)\n",
    "apply(number , 2, sd_fn)"
   ]
  },
  {
   "cell_type": "code",
   "execution_count": 29,
   "metadata": {},
   "outputs": [
    {
     "data": {
      "text/html": [
       "<ol class=list-inline>\n",
       "\t<li>1</li>\n",
       "\t<li>1</li>\n",
       "\t<li>1</li>\n",
       "\t<li>1</li>\n",
       "\t<li>1</li>\n",
       "\t<li>1</li>\n",
       "\t<li>1</li>\n",
       "\t<li>1</li>\n",
       "\t<li>1</li>\n",
       "\t<li>1</li>\n",
       "\t<li>1</li>\n",
       "\t<li>1</li>\n",
       "\t<li>1</li>\n",
       "\t<li>1</li>\n",
       "\t<li>1</li>\n",
       "\t<li>1</li>\n",
       "\t<li>1</li>\n",
       "\t<li>1</li>\n",
       "\t<li>1</li>\n",
       "\t<li>1</li>\n",
       "\t<li>1</li>\n",
       "\t<li>1</li>\n",
       "\t<li>1</li>\n",
       "\t<li>1</li>\n",
       "\t<li>1</li>\n",
       "\t<li>2</li>\n",
       "\t<li>2</li>\n",
       "\t<li>2</li>\n",
       "\t<li>2</li>\n",
       "\t<li>2</li>\n",
       "\t<li>2</li>\n",
       "\t<li>2</li>\n",
       "\t<li>2</li>\n",
       "\t<li>2</li>\n",
       "\t<li>2</li>\n",
       "\t<li>2</li>\n",
       "\t<li>2</li>\n",
       "\t<li>2</li>\n",
       "\t<li>2</li>\n",
       "\t<li>2</li>\n",
       "\t<li>2</li>\n",
       "\t<li>2</li>\n",
       "\t<li>2</li>\n",
       "\t<li>2</li>\n",
       "\t<li>2</li>\n",
       "\t<li>2</li>\n",
       "\t<li>2</li>\n",
       "\t<li>2</li>\n",
       "\t<li>2</li>\n",
       "\t<li>2</li>\n",
       "</ol>\n",
       "\n",
       "<details>\n",
       "\t<summary style=display:list-item;cursor:pointer>\n",
       "\t\t<strong>Levels</strong>:\n",
       "\t</summary>\n",
       "\t<ol class=list-inline>\n",
       "\t\t<li>'1'</li>\n",
       "\t\t<li>'2'</li>\n",
       "\t</ol>\n",
       "</details>"
      ],
      "text/latex": [
       "\\begin{enumerate*}\n",
       "\\item 1\n",
       "\\item 1\n",
       "\\item 1\n",
       "\\item 1\n",
       "\\item 1\n",
       "\\item 1\n",
       "\\item 1\n",
       "\\item 1\n",
       "\\item 1\n",
       "\\item 1\n",
       "\\item 1\n",
       "\\item 1\n",
       "\\item 1\n",
       "\\item 1\n",
       "\\item 1\n",
       "\\item 1\n",
       "\\item 1\n",
       "\\item 1\n",
       "\\item 1\n",
       "\\item 1\n",
       "\\item 1\n",
       "\\item 1\n",
       "\\item 1\n",
       "\\item 1\n",
       "\\item 1\n",
       "\\item 2\n",
       "\\item 2\n",
       "\\item 2\n",
       "\\item 2\n",
       "\\item 2\n",
       "\\item 2\n",
       "\\item 2\n",
       "\\item 2\n",
       "\\item 2\n",
       "\\item 2\n",
       "\\item 2\n",
       "\\item 2\n",
       "\\item 2\n",
       "\\item 2\n",
       "\\item 2\n",
       "\\item 2\n",
       "\\item 2\n",
       "\\item 2\n",
       "\\item 2\n",
       "\\item 2\n",
       "\\item 2\n",
       "\\item 2\n",
       "\\item 2\n",
       "\\item 2\n",
       "\\item 2\n",
       "\\end{enumerate*}\n",
       "\n",
       "\\emph{Levels}: \\begin{enumerate*}\n",
       "\\item '1'\n",
       "\\item '2'\n",
       "\\end{enumerate*}\n"
      ],
      "text/markdown": [
       "1. 1\n",
       "2. 1\n",
       "3. 1\n",
       "4. 1\n",
       "5. 1\n",
       "6. 1\n",
       "7. 1\n",
       "8. 1\n",
       "9. 1\n",
       "10. 1\n",
       "11. 1\n",
       "12. 1\n",
       "13. 1\n",
       "14. 1\n",
       "15. 1\n",
       "16. 1\n",
       "17. 1\n",
       "18. 1\n",
       "19. 1\n",
       "20. 1\n",
       "21. 1\n",
       "22. 1\n",
       "23. 1\n",
       "24. 1\n",
       "25. 1\n",
       "26. 2\n",
       "27. 2\n",
       "28. 2\n",
       "29. 2\n",
       "30. 2\n",
       "31. 2\n",
       "32. 2\n",
       "33. 2\n",
       "34. 2\n",
       "35. 2\n",
       "36. 2\n",
       "37. 2\n",
       "38. 2\n",
       "39. 2\n",
       "40. 2\n",
       "41. 2\n",
       "42. 2\n",
       "43. 2\n",
       "44. 2\n",
       "45. 2\n",
       "46. 2\n",
       "47. 2\n",
       "48. 2\n",
       "49. 2\n",
       "50. 2\n",
       "\n",
       "\n",
       "\n",
       "**Levels**: 1. '1'\n",
       "2. '2'\n",
       "\n",
       "\n"
      ],
      "text/plain": [
       " [1] 1 1 1 1 1 1 1 1 1 1 1 1 1 1 1 1 1 1 1 1 1 1 1 1 1 2 2 2 2 2 2 2 2 2 2 2 2 2\n",
       "[39] 2 2 2 2 2 2 2 2 2 2 2 2\n",
       "Levels: 1 2"
      ]
     },
     "metadata": {},
     "output_type": "display_data"
    }
   ],
   "source": [
    "f <- gl(2,25)\n",
    "f"
   ]
  },
  {
   "cell_type": "code",
   "execution_count": 31,
   "metadata": {},
   "outputs": [
    {
     "data": {
      "text/html": [
       "<dl class=dl-horizontal>\n",
       "\t<dt>1</dt>\n",
       "\t\t<dd>13</dd>\n",
       "\t<dt>2</dt>\n",
       "\t\t<dd>38</dd>\n",
       "</dl>\n"
      ],
      "text/latex": [
       "\\begin{description*}\n",
       "\\item[1] 13\n",
       "\\item[2] 38\n",
       "\\end{description*}\n"
      ],
      "text/markdown": [
       "1\n",
       ":   132\n",
       ":   38\n",
       "\n"
      ],
      "text/plain": [
       " 1  2 \n",
       "13 38 "
      ]
     },
     "metadata": {},
     "output_type": "display_data"
    },
    {
     "data": {
      "text/html": [
       "<dl class=dl-horizontal>\n",
       "\t<dt>1</dt>\n",
       "\t\t<dd>7.35980072193987</dd>\n",
       "\t<dt>2</dt>\n",
       "\t\t<dd>7.35980072193987</dd>\n",
       "</dl>\n"
      ],
      "text/latex": [
       "\\begin{description*}\n",
       "\\item[1] 7.35980072193987\n",
       "\\item[2] 7.35980072193987\n",
       "\\end{description*}\n"
      ],
      "text/markdown": [
       "1\n",
       ":   7.359800721939872\n",
       ":   7.35980072193987\n",
       "\n"
      ],
      "text/plain": [
       "       1        2 \n",
       "7.359801 7.359801 "
      ]
     },
     "metadata": {},
     "output_type": "display_data"
    }
   ],
   "source": [
    "tapply(seq(101:150) , f, mean_fn)\n",
    "tapply(seq(101:150) ,f, sd_fn)"
   ]
  },
  {
   "cell_type": "code",
   "execution_count": 14,
   "metadata": {},
   "outputs": [],
   "source": [
    "#### End solution ####"
   ]
  },
  {
   "cell_type": "markdown",
   "metadata": {},
   "source": [
    "### Question 2\n",
    "**Create a matrix of dimensions 4x4**\n",
    "1. Find the row-wise and column-wise mean of the matrix.\n",
    "2. Print the values."
   ]
  },
  {
   "cell_type": "code",
   "execution_count": 9,
   "metadata": {},
   "outputs": [],
   "source": [
    "#### Start solution ####"
   ]
  },
  {
   "cell_type": "code",
   "execution_count": 32,
   "metadata": {},
   "outputs": [
    {
     "data": {
      "text/html": [
       "<table>\n",
       "<tbody>\n",
       "\t<tr><td> 4</td><td>20</td><td>36</td><td>52</td></tr>\n",
       "\t<tr><td> 8</td><td>24</td><td>40</td><td>56</td></tr>\n",
       "\t<tr><td>12</td><td>28</td><td>44</td><td>60</td></tr>\n",
       "\t<tr><td>16</td><td>32</td><td>48</td><td>64</td></tr>\n",
       "</tbody>\n",
       "</table>\n"
      ],
      "text/latex": [
       "\\begin{tabular}{llll}\n",
       "\t  4 & 20 & 36 & 52\\\\\n",
       "\t  8 & 24 & 40 & 56\\\\\n",
       "\t 12 & 28 & 44 & 60\\\\\n",
       "\t 16 & 32 & 48 & 64\\\\\n",
       "\\end{tabular}\n"
      ],
      "text/markdown": [
       "\n",
       "|  4 | 20 | 36 | 52 |\n",
       "|  8 | 24 | 40 | 56 |\n",
       "| 12 | 28 | 44 | 60 |\n",
       "| 16 | 32 | 48 | 64 |\n",
       "\n"
      ],
      "text/plain": [
       "     [,1] [,2] [,3] [,4]\n",
       "[1,]  4   20   36   52  \n",
       "[2,]  8   24   40   56  \n",
       "[3,] 12   28   44   60  \n",
       "[4,] 16   32   48   64  "
      ]
     },
     "metadata": {},
     "output_type": "display_data"
    }
   ],
   "source": [
    "mat <- matrix(4*(1:16),4,4)\n",
    "mat"
   ]
  },
  {
   "cell_type": "code",
   "execution_count": 35,
   "metadata": {},
   "outputs": [
    {
     "data": {
      "text/html": [
       "<ol class=list-inline>\n",
       "\t<li>28</li>\n",
       "\t<li>32</li>\n",
       "\t<li>36</li>\n",
       "\t<li>40</li>\n",
       "</ol>\n"
      ],
      "text/latex": [
       "\\begin{enumerate*}\n",
       "\\item 28\n",
       "\\item 32\n",
       "\\item 36\n",
       "\\item 40\n",
       "\\end{enumerate*}\n"
      ],
      "text/markdown": [
       "1. 28\n",
       "2. 32\n",
       "3. 36\n",
       "4. 40\n",
       "\n",
       "\n"
      ],
      "text/plain": [
       "[1] 28 32 36 40"
      ]
     },
     "metadata": {},
     "output_type": "display_data"
    }
   ],
   "source": [
    "rowmean = apply(mat, 1, mean_fn)\n",
    "rowmean"
   ]
  },
  {
   "cell_type": "code",
   "execution_count": 36,
   "metadata": {},
   "outputs": [
    {
     "data": {
      "text/html": [
       "<ol class=list-inline>\n",
       "\t<li>10</li>\n",
       "\t<li>26</li>\n",
       "\t<li>42</li>\n",
       "\t<li>58</li>\n",
       "</ol>\n"
      ],
      "text/latex": [
       "\\begin{enumerate*}\n",
       "\\item 10\n",
       "\\item 26\n",
       "\\item 42\n",
       "\\item 58\n",
       "\\end{enumerate*}\n"
      ],
      "text/markdown": [
       "1. 10\n",
       "2. 26\n",
       "3. 42\n",
       "4. 58\n",
       "\n",
       "\n"
      ],
      "text/plain": [
       "[1] 10 26 42 58"
      ]
     },
     "metadata": {},
     "output_type": "display_data"
    }
   ],
   "source": [
    "colmean = apply(mat, 2, mean_fn)\n",
    "colmean"
   ]
  },
  {
   "cell_type": "code",
   "execution_count": 37,
   "metadata": {},
   "outputs": [
    {
     "data": {
      "text/html": [
       "<ol class=list-inline>\n",
       "\t<li>28</li>\n",
       "\t<li>32</li>\n",
       "\t<li>36</li>\n",
       "\t<li>40</li>\n",
       "</ol>\n"
      ],
      "text/latex": [
       "\\begin{enumerate*}\n",
       "\\item 28\n",
       "\\item 32\n",
       "\\item 36\n",
       "\\item 40\n",
       "\\end{enumerate*}\n"
      ],
      "text/markdown": [
       "1. 28\n",
       "2. 32\n",
       "3. 36\n",
       "4. 40\n",
       "\n",
       "\n"
      ],
      "text/plain": [
       "[1] 28 32 36 40"
      ]
     },
     "metadata": {},
     "output_type": "display_data"
    }
   ],
   "source": [
    "rowMeans(mat)"
   ]
  },
  {
   "cell_type": "code",
   "execution_count": 38,
   "metadata": {},
   "outputs": [
    {
     "data": {
      "text/html": [
       "<ol class=list-inline>\n",
       "\t<li>10</li>\n",
       "\t<li>26</li>\n",
       "\t<li>42</li>\n",
       "\t<li>58</li>\n",
       "</ol>\n"
      ],
      "text/latex": [
       "\\begin{enumerate*}\n",
       "\\item 10\n",
       "\\item 26\n",
       "\\item 42\n",
       "\\item 58\n",
       "\\end{enumerate*}\n"
      ],
      "text/markdown": [
       "1. 10\n",
       "2. 26\n",
       "3. 42\n",
       "4. 58\n",
       "\n",
       "\n"
      ],
      "text/plain": [
       "[1] 10 26 42 58"
      ]
     },
     "metadata": {},
     "output_type": "display_data"
    }
   ],
   "source": [
    "colMeans(mat)"
   ]
  },
  {
   "cell_type": "code",
   "execution_count": 14,
   "metadata": {},
   "outputs": [],
   "source": [
    "#### End solution ####"
   ]
  },
  {
   "cell_type": "markdown",
   "metadata": {},
   "source": [
    "### Good Job! You have successfully completed the section!"
   ]
  },
  {
   "cell_type": "markdown",
   "metadata": {},
   "source": [
    "## Section 7: Data Split"
   ]
  },
  {
   "cell_type": "markdown",
   "metadata": {},
   "source": [
    "### Question 1\n",
    "**Using the data frame Orange:**\n",
    "1. Using split function to break down the dataset on circumference and store it in 'split_data' variable. \n",
    "2. Print the values for split_data where circumference is 30 and 75.\n",
    "3. Find the average age of the tree when the circumference is 30 and when circumference is 214.\n",
    "\n",
    "\n",
    "The dataset is loaded and the variable Orange contains the respective dataset."
   ]
  },
  {
   "cell_type": "code",
   "execution_count": 21,
   "metadata": {},
   "outputs": [],
   "source": [
    "library(datasets)"
   ]
  },
  {
   "cell_type": "code",
   "execution_count": 25,
   "metadata": {},
   "outputs": [
    {
     "data": {
      "text/html": [
       "<table>\n",
       "<thead><tr><th scope=col>Tree</th><th scope=col>age</th><th scope=col>circumference</th></tr></thead>\n",
       "<tbody>\n",
       "\t<tr><td>1   </td><td> 118</td><td> 30 </td></tr>\n",
       "\t<tr><td>1   </td><td> 484</td><td> 58 </td></tr>\n",
       "\t<tr><td>1   </td><td> 664</td><td> 87 </td></tr>\n",
       "\t<tr><td>1   </td><td>1004</td><td>115 </td></tr>\n",
       "\t<tr><td>1   </td><td>1231</td><td>120 </td></tr>\n",
       "\t<tr><td>1   </td><td>1372</td><td>142 </td></tr>\n",
       "</tbody>\n",
       "</table>\n"
      ],
      "text/latex": [
       "\\begin{tabular}{r|lll}\n",
       " Tree & age & circumference\\\\\n",
       "\\hline\n",
       "\t 1    &  118 &  30 \\\\\n",
       "\t 1    &  484 &  58 \\\\\n",
       "\t 1    &  664 &  87 \\\\\n",
       "\t 1    & 1004 & 115 \\\\\n",
       "\t 1    & 1231 & 120 \\\\\n",
       "\t 1    & 1372 & 142 \\\\\n",
       "\\end{tabular}\n"
      ],
      "text/markdown": [
       "\n",
       "| Tree | age | circumference |\n",
       "|---|---|---|\n",
       "| 1    |  118 |  30  |\n",
       "| 1    |  484 |  58  |\n",
       "| 1    |  664 |  87  |\n",
       "| 1    | 1004 | 115  |\n",
       "| 1    | 1231 | 120  |\n",
       "| 1    | 1372 | 142  |\n",
       "\n"
      ],
      "text/plain": [
       "  Tree age  circumference\n",
       "1 1     118  30          \n",
       "2 1     484  58          \n",
       "3 1     664  87          \n",
       "4 1    1004 115          \n",
       "5 1    1231 120          \n",
       "6 1    1372 142          "
      ]
     },
     "metadata": {},
     "output_type": "display_data"
    }
   ],
   "source": [
    "head(Orange)"
   ]
  },
  {
   "cell_type": "code",
   "execution_count": 9,
   "metadata": {},
   "outputs": [],
   "source": [
    "#### Start solution ####"
   ]
  },
  {
   "cell_type": "code",
   "execution_count": 40,
   "metadata": {},
   "outputs": [
    {
     "data": {
      "text/html": [
       "<dl>\n",
       "\t<dt>$`30`</dt>\n",
       "\t\t<dd><table>\n",
       "<thead><tr><th></th><th scope=col>Tree</th><th scope=col>age</th><th scope=col>circumference</th></tr></thead>\n",
       "<tbody>\n",
       "\t<tr><th scope=row>1</th><td>1  </td><td>118</td><td>30 </td></tr>\n",
       "\t<tr><th scope=row>15</th><td>3  </td><td>118</td><td>30 </td></tr>\n",
       "\t<tr><th scope=row>29</th><td>5  </td><td>118</td><td>30 </td></tr>\n",
       "</tbody>\n",
       "</table>\n",
       "</dd>\n",
       "\t<dt>$`32`</dt>\n",
       "\t\t<dd><table>\n",
       "<thead><tr><th></th><th scope=col>Tree</th><th scope=col>age</th><th scope=col>circumference</th></tr></thead>\n",
       "<tbody>\n",
       "\t<tr><th scope=row>22</th><td>4  </td><td>118</td><td>32 </td></tr>\n",
       "</tbody>\n",
       "</table>\n",
       "</dd>\n",
       "\t<dt>$`33`</dt>\n",
       "\t\t<dd><table>\n",
       "<thead><tr><th></th><th scope=col>Tree</th><th scope=col>age</th><th scope=col>circumference</th></tr></thead>\n",
       "<tbody>\n",
       "\t<tr><th scope=row>8</th><td>2  </td><td>118</td><td>33 </td></tr>\n",
       "</tbody>\n",
       "</table>\n",
       "</dd>\n",
       "\t<dt>$`49`</dt>\n",
       "\t\t<dd><table>\n",
       "<thead><tr><th></th><th scope=col>Tree</th><th scope=col>age</th><th scope=col>circumference</th></tr></thead>\n",
       "<tbody>\n",
       "\t<tr><th scope=row>30</th><td>5  </td><td>484</td><td>49 </td></tr>\n",
       "</tbody>\n",
       "</table>\n",
       "</dd>\n",
       "\t<dt>$`51`</dt>\n",
       "\t\t<dd><table>\n",
       "<thead><tr><th></th><th scope=col>Tree</th><th scope=col>age</th><th scope=col>circumference</th></tr></thead>\n",
       "<tbody>\n",
       "\t<tr><th scope=row>16</th><td>3  </td><td>484</td><td>51 </td></tr>\n",
       "</tbody>\n",
       "</table>\n",
       "</dd>\n",
       "\t<dt>$`58`</dt>\n",
       "\t\t<dd><table>\n",
       "<thead><tr><th></th><th scope=col>Tree</th><th scope=col>age</th><th scope=col>circumference</th></tr></thead>\n",
       "<tbody>\n",
       "\t<tr><th scope=row>2</th><td>1  </td><td>484</td><td>58 </td></tr>\n",
       "</tbody>\n",
       "</table>\n",
       "</dd>\n",
       "\t<dt>$`62`</dt>\n",
       "\t\t<dd><table>\n",
       "<thead><tr><th></th><th scope=col>Tree</th><th scope=col>age</th><th scope=col>circumference</th></tr></thead>\n",
       "<tbody>\n",
       "\t<tr><th scope=row>23</th><td>4  </td><td>484</td><td>62 </td></tr>\n",
       "</tbody>\n",
       "</table>\n",
       "</dd>\n",
       "\t<dt>$`69`</dt>\n",
       "\t\t<dd><table>\n",
       "<thead><tr><th></th><th scope=col>Tree</th><th scope=col>age</th><th scope=col>circumference</th></tr></thead>\n",
       "<tbody>\n",
       "\t<tr><th scope=row>9</th><td>2  </td><td>484</td><td>69 </td></tr>\n",
       "</tbody>\n",
       "</table>\n",
       "</dd>\n",
       "\t<dt>$`75`</dt>\n",
       "\t\t<dd><table>\n",
       "<thead><tr><th></th><th scope=col>Tree</th><th scope=col>age</th><th scope=col>circumference</th></tr></thead>\n",
       "<tbody>\n",
       "\t<tr><th scope=row>17</th><td>3  </td><td>664</td><td>75 </td></tr>\n",
       "</tbody>\n",
       "</table>\n",
       "</dd>\n",
       "\t<dt>$`81`</dt>\n",
       "\t\t<dd><table>\n",
       "<thead><tr><th></th><th scope=col>Tree</th><th scope=col>age</th><th scope=col>circumference</th></tr></thead>\n",
       "<tbody>\n",
       "\t<tr><th scope=row>31</th><td>5  </td><td>664</td><td>81 </td></tr>\n",
       "</tbody>\n",
       "</table>\n",
       "</dd>\n",
       "\t<dt>$`87`</dt>\n",
       "\t\t<dd><table>\n",
       "<thead><tr><th></th><th scope=col>Tree</th><th scope=col>age</th><th scope=col>circumference</th></tr></thead>\n",
       "<tbody>\n",
       "\t<tr><th scope=row>3</th><td>1  </td><td>664</td><td>87 </td></tr>\n",
       "</tbody>\n",
       "</table>\n",
       "</dd>\n",
       "\t<dt>$`108`</dt>\n",
       "\t\t<dd><table>\n",
       "<thead><tr><th></th><th scope=col>Tree</th><th scope=col>age</th><th scope=col>circumference</th></tr></thead>\n",
       "<tbody>\n",
       "\t<tr><th scope=row>18</th><td>3   </td><td>1004</td><td>108 </td></tr>\n",
       "</tbody>\n",
       "</table>\n",
       "</dd>\n",
       "\t<dt>$`111`</dt>\n",
       "\t\t<dd><table>\n",
       "<thead><tr><th></th><th scope=col>Tree</th><th scope=col>age</th><th scope=col>circumference</th></tr></thead>\n",
       "<tbody>\n",
       "\t<tr><th scope=row>10</th><td>2  </td><td>664</td><td>111</td></tr>\n",
       "</tbody>\n",
       "</table>\n",
       "</dd>\n",
       "\t<dt>$`112`</dt>\n",
       "\t\t<dd><table>\n",
       "<thead><tr><th></th><th scope=col>Tree</th><th scope=col>age</th><th scope=col>circumference</th></tr></thead>\n",
       "<tbody>\n",
       "\t<tr><th scope=row>24</th><td>4  </td><td>664</td><td>112</td></tr>\n",
       "</tbody>\n",
       "</table>\n",
       "</dd>\n",
       "\t<dt>$`115`</dt>\n",
       "\t\t<dd><table>\n",
       "<thead><tr><th></th><th scope=col>Tree</th><th scope=col>age</th><th scope=col>circumference</th></tr></thead>\n",
       "<tbody>\n",
       "\t<tr><th scope=row>4</th><td>1   </td><td>1004</td><td>115 </td></tr>\n",
       "\t<tr><th scope=row>19</th><td>3   </td><td>1231</td><td>115 </td></tr>\n",
       "</tbody>\n",
       "</table>\n",
       "</dd>\n",
       "\t<dt>$`120`</dt>\n",
       "\t\t<dd><table>\n",
       "<thead><tr><th></th><th scope=col>Tree</th><th scope=col>age</th><th scope=col>circumference</th></tr></thead>\n",
       "<tbody>\n",
       "\t<tr><th scope=row>5</th><td>1   </td><td>1231</td><td>120 </td></tr>\n",
       "</tbody>\n",
       "</table>\n",
       "</dd>\n",
       "\t<dt>$`125`</dt>\n",
       "\t\t<dd><table>\n",
       "<thead><tr><th></th><th scope=col>Tree</th><th scope=col>age</th><th scope=col>circumference</th></tr></thead>\n",
       "<tbody>\n",
       "\t<tr><th scope=row>32</th><td>5   </td><td>1004</td><td>125 </td></tr>\n",
       "</tbody>\n",
       "</table>\n",
       "</dd>\n",
       "\t<dt>$`139`</dt>\n",
       "\t\t<dd><table>\n",
       "<thead><tr><th></th><th scope=col>Tree</th><th scope=col>age</th><th scope=col>circumference</th></tr></thead>\n",
       "<tbody>\n",
       "\t<tr><th scope=row>20</th><td>3   </td><td>1372</td><td>139 </td></tr>\n",
       "</tbody>\n",
       "</table>\n",
       "</dd>\n",
       "\t<dt>$`140`</dt>\n",
       "\t\t<dd><table>\n",
       "<thead><tr><th></th><th scope=col>Tree</th><th scope=col>age</th><th scope=col>circumference</th></tr></thead>\n",
       "<tbody>\n",
       "\t<tr><th scope=row>21</th><td>3   </td><td>1582</td><td>140 </td></tr>\n",
       "</tbody>\n",
       "</table>\n",
       "</dd>\n",
       "\t<dt>$`142`</dt>\n",
       "\t\t<dd><table>\n",
       "<thead><tr><th></th><th scope=col>Tree</th><th scope=col>age</th><th scope=col>circumference</th></tr></thead>\n",
       "<tbody>\n",
       "\t<tr><th scope=row>6</th><td>1   </td><td>1372</td><td>142 </td></tr>\n",
       "\t<tr><th scope=row>33</th><td>5   </td><td>1231</td><td>142 </td></tr>\n",
       "</tbody>\n",
       "</table>\n",
       "</dd>\n",
       "\t<dt>$`145`</dt>\n",
       "\t\t<dd><table>\n",
       "<thead><tr><th></th><th scope=col>Tree</th><th scope=col>age</th><th scope=col>circumference</th></tr></thead>\n",
       "<tbody>\n",
       "\t<tr><th scope=row>7</th><td>1   </td><td>1582</td><td>145 </td></tr>\n",
       "</tbody>\n",
       "</table>\n",
       "</dd>\n",
       "\t<dt>$`156`</dt>\n",
       "\t\t<dd><table>\n",
       "<thead><tr><th></th><th scope=col>Tree</th><th scope=col>age</th><th scope=col>circumference</th></tr></thead>\n",
       "<tbody>\n",
       "\t<tr><th scope=row>11</th><td>2   </td><td>1004</td><td>156 </td></tr>\n",
       "</tbody>\n",
       "</table>\n",
       "</dd>\n",
       "\t<dt>$`167`</dt>\n",
       "\t\t<dd><table>\n",
       "<thead><tr><th></th><th scope=col>Tree</th><th scope=col>age</th><th scope=col>circumference</th></tr></thead>\n",
       "<tbody>\n",
       "\t<tr><th scope=row>25</th><td>4   </td><td>1004</td><td>167 </td></tr>\n",
       "</tbody>\n",
       "</table>\n",
       "</dd>\n",
       "\t<dt>$`172`</dt>\n",
       "\t\t<dd><table>\n",
       "<thead><tr><th></th><th scope=col>Tree</th><th scope=col>age</th><th scope=col>circumference</th></tr></thead>\n",
       "<tbody>\n",
       "\t<tr><th scope=row>12</th><td>2   </td><td>1231</td><td>172 </td></tr>\n",
       "</tbody>\n",
       "</table>\n",
       "</dd>\n",
       "\t<dt>$`174`</dt>\n",
       "\t\t<dd><table>\n",
       "<thead><tr><th></th><th scope=col>Tree</th><th scope=col>age</th><th scope=col>circumference</th></tr></thead>\n",
       "<tbody>\n",
       "\t<tr><th scope=row>34</th><td>5   </td><td>1372</td><td>174 </td></tr>\n",
       "</tbody>\n",
       "</table>\n",
       "</dd>\n",
       "\t<dt>$`177`</dt>\n",
       "\t\t<dd><table>\n",
       "<thead><tr><th></th><th scope=col>Tree</th><th scope=col>age</th><th scope=col>circumference</th></tr></thead>\n",
       "<tbody>\n",
       "\t<tr><th scope=row>35</th><td>5   </td><td>1582</td><td>177 </td></tr>\n",
       "</tbody>\n",
       "</table>\n",
       "</dd>\n",
       "\t<dt>$`179`</dt>\n",
       "\t\t<dd><table>\n",
       "<thead><tr><th></th><th scope=col>Tree</th><th scope=col>age</th><th scope=col>circumference</th></tr></thead>\n",
       "<tbody>\n",
       "\t<tr><th scope=row>26</th><td>4   </td><td>1231</td><td>179 </td></tr>\n",
       "</tbody>\n",
       "</table>\n",
       "</dd>\n",
       "\t<dt>$`203`</dt>\n",
       "\t\t<dd><table>\n",
       "<thead><tr><th></th><th scope=col>Tree</th><th scope=col>age</th><th scope=col>circumference</th></tr></thead>\n",
       "<tbody>\n",
       "\t<tr><th scope=row>13</th><td>2   </td><td>1372</td><td>203 </td></tr>\n",
       "\t<tr><th scope=row>14</th><td>2   </td><td>1582</td><td>203 </td></tr>\n",
       "</tbody>\n",
       "</table>\n",
       "</dd>\n",
       "\t<dt>$`209`</dt>\n",
       "\t\t<dd><table>\n",
       "<thead><tr><th></th><th scope=col>Tree</th><th scope=col>age</th><th scope=col>circumference</th></tr></thead>\n",
       "<tbody>\n",
       "\t<tr><th scope=row>27</th><td>4   </td><td>1372</td><td>209 </td></tr>\n",
       "</tbody>\n",
       "</table>\n",
       "</dd>\n",
       "\t<dt>$`214`</dt>\n",
       "\t\t<dd><table>\n",
       "<thead><tr><th></th><th scope=col>Tree</th><th scope=col>age</th><th scope=col>circumference</th></tr></thead>\n",
       "<tbody>\n",
       "\t<tr><th scope=row>28</th><td>4   </td><td>1582</td><td>214 </td></tr>\n",
       "</tbody>\n",
       "</table>\n",
       "</dd>\n",
       "</dl>\n"
      ],
      "text/latex": [
       "\\begin{description}\n",
       "\\item[\\$`30`] \\begin{tabular}{r|lll}\n",
       "  & Tree & age & circumference\\\\\n",
       "\\hline\n",
       "\t1 & 1   & 118 & 30 \\\\\n",
       "\t15 & 3   & 118 & 30 \\\\\n",
       "\t29 & 5   & 118 & 30 \\\\\n",
       "\\end{tabular}\n",
       "\n",
       "\\item[\\$`32`] \\begin{tabular}{r|lll}\n",
       "  & Tree & age & circumference\\\\\n",
       "\\hline\n",
       "\t22 & 4   & 118 & 32 \\\\\n",
       "\\end{tabular}\n",
       "\n",
       "\\item[\\$`33`] \\begin{tabular}{r|lll}\n",
       "  & Tree & age & circumference\\\\\n",
       "\\hline\n",
       "\t8 & 2   & 118 & 33 \\\\\n",
       "\\end{tabular}\n",
       "\n",
       "\\item[\\$`49`] \\begin{tabular}{r|lll}\n",
       "  & Tree & age & circumference\\\\\n",
       "\\hline\n",
       "\t30 & 5   & 484 & 49 \\\\\n",
       "\\end{tabular}\n",
       "\n",
       "\\item[\\$`51`] \\begin{tabular}{r|lll}\n",
       "  & Tree & age & circumference\\\\\n",
       "\\hline\n",
       "\t16 & 3   & 484 & 51 \\\\\n",
       "\\end{tabular}\n",
       "\n",
       "\\item[\\$`58`] \\begin{tabular}{r|lll}\n",
       "  & Tree & age & circumference\\\\\n",
       "\\hline\n",
       "\t2 & 1   & 484 & 58 \\\\\n",
       "\\end{tabular}\n",
       "\n",
       "\\item[\\$`62`] \\begin{tabular}{r|lll}\n",
       "  & Tree & age & circumference\\\\\n",
       "\\hline\n",
       "\t23 & 4   & 484 & 62 \\\\\n",
       "\\end{tabular}\n",
       "\n",
       "\\item[\\$`69`] \\begin{tabular}{r|lll}\n",
       "  & Tree & age & circumference\\\\\n",
       "\\hline\n",
       "\t9 & 2   & 484 & 69 \\\\\n",
       "\\end{tabular}\n",
       "\n",
       "\\item[\\$`75`] \\begin{tabular}{r|lll}\n",
       "  & Tree & age & circumference\\\\\n",
       "\\hline\n",
       "\t17 & 3   & 664 & 75 \\\\\n",
       "\\end{tabular}\n",
       "\n",
       "\\item[\\$`81`] \\begin{tabular}{r|lll}\n",
       "  & Tree & age & circumference\\\\\n",
       "\\hline\n",
       "\t31 & 5   & 664 & 81 \\\\\n",
       "\\end{tabular}\n",
       "\n",
       "\\item[\\$`87`] \\begin{tabular}{r|lll}\n",
       "  & Tree & age & circumference\\\\\n",
       "\\hline\n",
       "\t3 & 1   & 664 & 87 \\\\\n",
       "\\end{tabular}\n",
       "\n",
       "\\item[\\$`108`] \\begin{tabular}{r|lll}\n",
       "  & Tree & age & circumference\\\\\n",
       "\\hline\n",
       "\t18 & 3    & 1004 & 108 \\\\\n",
       "\\end{tabular}\n",
       "\n",
       "\\item[\\$`111`] \\begin{tabular}{r|lll}\n",
       "  & Tree & age & circumference\\\\\n",
       "\\hline\n",
       "\t10 & 2   & 664 & 111\\\\\n",
       "\\end{tabular}\n",
       "\n",
       "\\item[\\$`112`] \\begin{tabular}{r|lll}\n",
       "  & Tree & age & circumference\\\\\n",
       "\\hline\n",
       "\t24 & 4   & 664 & 112\\\\\n",
       "\\end{tabular}\n",
       "\n",
       "\\item[\\$`115`] \\begin{tabular}{r|lll}\n",
       "  & Tree & age & circumference\\\\\n",
       "\\hline\n",
       "\t4 & 1    & 1004 & 115 \\\\\n",
       "\t19 & 3    & 1231 & 115 \\\\\n",
       "\\end{tabular}\n",
       "\n",
       "\\item[\\$`120`] \\begin{tabular}{r|lll}\n",
       "  & Tree & age & circumference\\\\\n",
       "\\hline\n",
       "\t5 & 1    & 1231 & 120 \\\\\n",
       "\\end{tabular}\n",
       "\n",
       "\\item[\\$`125`] \\begin{tabular}{r|lll}\n",
       "  & Tree & age & circumference\\\\\n",
       "\\hline\n",
       "\t32 & 5    & 1004 & 125 \\\\\n",
       "\\end{tabular}\n",
       "\n",
       "\\item[\\$`139`] \\begin{tabular}{r|lll}\n",
       "  & Tree & age & circumference\\\\\n",
       "\\hline\n",
       "\t20 & 3    & 1372 & 139 \\\\\n",
       "\\end{tabular}\n",
       "\n",
       "\\item[\\$`140`] \\begin{tabular}{r|lll}\n",
       "  & Tree & age & circumference\\\\\n",
       "\\hline\n",
       "\t21 & 3    & 1582 & 140 \\\\\n",
       "\\end{tabular}\n",
       "\n",
       "\\item[\\$`142`] \\begin{tabular}{r|lll}\n",
       "  & Tree & age & circumference\\\\\n",
       "\\hline\n",
       "\t6 & 1    & 1372 & 142 \\\\\n",
       "\t33 & 5    & 1231 & 142 \\\\\n",
       "\\end{tabular}\n",
       "\n",
       "\\item[\\$`145`] \\begin{tabular}{r|lll}\n",
       "  & Tree & age & circumference\\\\\n",
       "\\hline\n",
       "\t7 & 1    & 1582 & 145 \\\\\n",
       "\\end{tabular}\n",
       "\n",
       "\\item[\\$`156`] \\begin{tabular}{r|lll}\n",
       "  & Tree & age & circumference\\\\\n",
       "\\hline\n",
       "\t11 & 2    & 1004 & 156 \\\\\n",
       "\\end{tabular}\n",
       "\n",
       "\\item[\\$`167`] \\begin{tabular}{r|lll}\n",
       "  & Tree & age & circumference\\\\\n",
       "\\hline\n",
       "\t25 & 4    & 1004 & 167 \\\\\n",
       "\\end{tabular}\n",
       "\n",
       "\\item[\\$`172`] \\begin{tabular}{r|lll}\n",
       "  & Tree & age & circumference\\\\\n",
       "\\hline\n",
       "\t12 & 2    & 1231 & 172 \\\\\n",
       "\\end{tabular}\n",
       "\n",
       "\\item[\\$`174`] \\begin{tabular}{r|lll}\n",
       "  & Tree & age & circumference\\\\\n",
       "\\hline\n",
       "\t34 & 5    & 1372 & 174 \\\\\n",
       "\\end{tabular}\n",
       "\n",
       "\\item[\\$`177`] \\begin{tabular}{r|lll}\n",
       "  & Tree & age & circumference\\\\\n",
       "\\hline\n",
       "\t35 & 5    & 1582 & 177 \\\\\n",
       "\\end{tabular}\n",
       "\n",
       "\\item[\\$`179`] \\begin{tabular}{r|lll}\n",
       "  & Tree & age & circumference\\\\\n",
       "\\hline\n",
       "\t26 & 4    & 1231 & 179 \\\\\n",
       "\\end{tabular}\n",
       "\n",
       "\\item[\\$`203`] \\begin{tabular}{r|lll}\n",
       "  & Tree & age & circumference\\\\\n",
       "\\hline\n",
       "\t13 & 2    & 1372 & 203 \\\\\n",
       "\t14 & 2    & 1582 & 203 \\\\\n",
       "\\end{tabular}\n",
       "\n",
       "\\item[\\$`209`] \\begin{tabular}{r|lll}\n",
       "  & Tree & age & circumference\\\\\n",
       "\\hline\n",
       "\t27 & 4    & 1372 & 209 \\\\\n",
       "\\end{tabular}\n",
       "\n",
       "\\item[\\$`214`] \\begin{tabular}{r|lll}\n",
       "  & Tree & age & circumference\\\\\n",
       "\\hline\n",
       "\t28 & 4    & 1582 & 214 \\\\\n",
       "\\end{tabular}\n",
       "\n",
       "\\end{description}\n"
      ],
      "text/markdown": [
       "$`30`\n",
       ":   \n",
       "| <!--/--> | Tree | age | circumference |\n",
       "|---|---|---|---|\n",
       "| 1 | 1   | 118 | 30  |\n",
       "| 15 | 3   | 118 | 30  |\n",
       "| 29 | 5   | 118 | 30  |\n",
       "\n",
       "\n",
       "$`32`\n",
       ":   \n",
       "| <!--/--> | Tree | age | circumference |\n",
       "|---|---|---|---|\n",
       "| 22 | 4   | 118 | 32  |\n",
       "\n",
       "\n",
       "$`33`\n",
       ":   \n",
       "| <!--/--> | Tree | age | circumference |\n",
       "|---|---|---|---|\n",
       "| 8 | 2   | 118 | 33  |\n",
       "\n",
       "\n",
       "$`49`\n",
       ":   \n",
       "| <!--/--> | Tree | age | circumference |\n",
       "|---|---|---|---|\n",
       "| 30 | 5   | 484 | 49  |\n",
       "\n",
       "\n",
       "$`51`\n",
       ":   \n",
       "| <!--/--> | Tree | age | circumference |\n",
       "|---|---|---|---|\n",
       "| 16 | 3   | 484 | 51  |\n",
       "\n",
       "\n",
       "$`58`\n",
       ":   \n",
       "| <!--/--> | Tree | age | circumference |\n",
       "|---|---|---|---|\n",
       "| 2 | 1   | 484 | 58  |\n",
       "\n",
       "\n",
       "$`62`\n",
       ":   \n",
       "| <!--/--> | Tree | age | circumference |\n",
       "|---|---|---|---|\n",
       "| 23 | 4   | 484 | 62  |\n",
       "\n",
       "\n",
       "$`69`\n",
       ":   \n",
       "| <!--/--> | Tree | age | circumference |\n",
       "|---|---|---|---|\n",
       "| 9 | 2   | 484 | 69  |\n",
       "\n",
       "\n",
       "$`75`\n",
       ":   \n",
       "| <!--/--> | Tree | age | circumference |\n",
       "|---|---|---|---|\n",
       "| 17 | 3   | 664 | 75  |\n",
       "\n",
       "\n",
       "$`81`\n",
       ":   \n",
       "| <!--/--> | Tree | age | circumference |\n",
       "|---|---|---|---|\n",
       "| 31 | 5   | 664 | 81  |\n",
       "\n",
       "\n",
       "$`87`\n",
       ":   \n",
       "| <!--/--> | Tree | age | circumference |\n",
       "|---|---|---|---|\n",
       "| 3 | 1   | 664 | 87  |\n",
       "\n",
       "\n",
       "$`108`\n",
       ":   \n",
       "| <!--/--> | Tree | age | circumference |\n",
       "|---|---|---|---|\n",
       "| 18 | 3    | 1004 | 108  |\n",
       "\n",
       "\n",
       "$`111`\n",
       ":   \n",
       "| <!--/--> | Tree | age | circumference |\n",
       "|---|---|---|---|\n",
       "| 10 | 2   | 664 | 111 |\n",
       "\n",
       "\n",
       "$`112`\n",
       ":   \n",
       "| <!--/--> | Tree | age | circumference |\n",
       "|---|---|---|---|\n",
       "| 24 | 4   | 664 | 112 |\n",
       "\n",
       "\n",
       "$`115`\n",
       ":   \n",
       "| <!--/--> | Tree | age | circumference |\n",
       "|---|---|---|---|\n",
       "| 4 | 1    | 1004 | 115  |\n",
       "| 19 | 3    | 1231 | 115  |\n",
       "\n",
       "\n",
       "$`120`\n",
       ":   \n",
       "| <!--/--> | Tree | age | circumference |\n",
       "|---|---|---|---|\n",
       "| 5 | 1    | 1231 | 120  |\n",
       "\n",
       "\n",
       "$`125`\n",
       ":   \n",
       "| <!--/--> | Tree | age | circumference |\n",
       "|---|---|---|---|\n",
       "| 32 | 5    | 1004 | 125  |\n",
       "\n",
       "\n",
       "$`139`\n",
       ":   \n",
       "| <!--/--> | Tree | age | circumference |\n",
       "|---|---|---|---|\n",
       "| 20 | 3    | 1372 | 139  |\n",
       "\n",
       "\n",
       "$`140`\n",
       ":   \n",
       "| <!--/--> | Tree | age | circumference |\n",
       "|---|---|---|---|\n",
       "| 21 | 3    | 1582 | 140  |\n",
       "\n",
       "\n",
       "$`142`\n",
       ":   \n",
       "| <!--/--> | Tree | age | circumference |\n",
       "|---|---|---|---|\n",
       "| 6 | 1    | 1372 | 142  |\n",
       "| 33 | 5    | 1231 | 142  |\n",
       "\n",
       "\n",
       "$`145`\n",
       ":   \n",
       "| <!--/--> | Tree | age | circumference |\n",
       "|---|---|---|---|\n",
       "| 7 | 1    | 1582 | 145  |\n",
       "\n",
       "\n",
       "$`156`\n",
       ":   \n",
       "| <!--/--> | Tree | age | circumference |\n",
       "|---|---|---|---|\n",
       "| 11 | 2    | 1004 | 156  |\n",
       "\n",
       "\n",
       "$`167`\n",
       ":   \n",
       "| <!--/--> | Tree | age | circumference |\n",
       "|---|---|---|---|\n",
       "| 25 | 4    | 1004 | 167  |\n",
       "\n",
       "\n",
       "$`172`\n",
       ":   \n",
       "| <!--/--> | Tree | age | circumference |\n",
       "|---|---|---|---|\n",
       "| 12 | 2    | 1231 | 172  |\n",
       "\n",
       "\n",
       "$`174`\n",
       ":   \n",
       "| <!--/--> | Tree | age | circumference |\n",
       "|---|---|---|---|\n",
       "| 34 | 5    | 1372 | 174  |\n",
       "\n",
       "\n",
       "$`177`\n",
       ":   \n",
       "| <!--/--> | Tree | age | circumference |\n",
       "|---|---|---|---|\n",
       "| 35 | 5    | 1582 | 177  |\n",
       "\n",
       "\n",
       "$`179`\n",
       ":   \n",
       "| <!--/--> | Tree | age | circumference |\n",
       "|---|---|---|---|\n",
       "| 26 | 4    | 1231 | 179  |\n",
       "\n",
       "\n",
       "$`203`\n",
       ":   \n",
       "| <!--/--> | Tree | age | circumference |\n",
       "|---|---|---|---|\n",
       "| 13 | 2    | 1372 | 203  |\n",
       "| 14 | 2    | 1582 | 203  |\n",
       "\n",
       "\n",
       "$`209`\n",
       ":   \n",
       "| <!--/--> | Tree | age | circumference |\n",
       "|---|---|---|---|\n",
       "| 27 | 4    | 1372 | 209  |\n",
       "\n",
       "\n",
       "$`214`\n",
       ":   \n",
       "| <!--/--> | Tree | age | circumference |\n",
       "|---|---|---|---|\n",
       "| 28 | 4    | 1582 | 214  |\n",
       "\n",
       "\n",
       "\n",
       "\n"
      ],
      "text/plain": [
       "$`30`\n",
       "   Tree age circumference\n",
       "1     1 118            30\n",
       "15    3 118            30\n",
       "29    5 118            30\n",
       "\n",
       "$`32`\n",
       "   Tree age circumference\n",
       "22    4 118            32\n",
       "\n",
       "$`33`\n",
       "  Tree age circumference\n",
       "8    2 118            33\n",
       "\n",
       "$`49`\n",
       "   Tree age circumference\n",
       "30    5 484            49\n",
       "\n",
       "$`51`\n",
       "   Tree age circumference\n",
       "16    3 484            51\n",
       "\n",
       "$`58`\n",
       "  Tree age circumference\n",
       "2    1 484            58\n",
       "\n",
       "$`62`\n",
       "   Tree age circumference\n",
       "23    4 484            62\n",
       "\n",
       "$`69`\n",
       "  Tree age circumference\n",
       "9    2 484            69\n",
       "\n",
       "$`75`\n",
       "   Tree age circumference\n",
       "17    3 664            75\n",
       "\n",
       "$`81`\n",
       "   Tree age circumference\n",
       "31    5 664            81\n",
       "\n",
       "$`87`\n",
       "  Tree age circumference\n",
       "3    1 664            87\n",
       "\n",
       "$`108`\n",
       "   Tree  age circumference\n",
       "18    3 1004           108\n",
       "\n",
       "$`111`\n",
       "   Tree age circumference\n",
       "10    2 664           111\n",
       "\n",
       "$`112`\n",
       "   Tree age circumference\n",
       "24    4 664           112\n",
       "\n",
       "$`115`\n",
       "   Tree  age circumference\n",
       "4     1 1004           115\n",
       "19    3 1231           115\n",
       "\n",
       "$`120`\n",
       "  Tree  age circumference\n",
       "5    1 1231           120\n",
       "\n",
       "$`125`\n",
       "   Tree  age circumference\n",
       "32    5 1004           125\n",
       "\n",
       "$`139`\n",
       "   Tree  age circumference\n",
       "20    3 1372           139\n",
       "\n",
       "$`140`\n",
       "   Tree  age circumference\n",
       "21    3 1582           140\n",
       "\n",
       "$`142`\n",
       "   Tree  age circumference\n",
       "6     1 1372           142\n",
       "33    5 1231           142\n",
       "\n",
       "$`145`\n",
       "  Tree  age circumference\n",
       "7    1 1582           145\n",
       "\n",
       "$`156`\n",
       "   Tree  age circumference\n",
       "11    2 1004           156\n",
       "\n",
       "$`167`\n",
       "   Tree  age circumference\n",
       "25    4 1004           167\n",
       "\n",
       "$`172`\n",
       "   Tree  age circumference\n",
       "12    2 1231           172\n",
       "\n",
       "$`174`\n",
       "   Tree  age circumference\n",
       "34    5 1372           174\n",
       "\n",
       "$`177`\n",
       "   Tree  age circumference\n",
       "35    5 1582           177\n",
       "\n",
       "$`179`\n",
       "   Tree  age circumference\n",
       "26    4 1231           179\n",
       "\n",
       "$`203`\n",
       "   Tree  age circumference\n",
       "13    2 1372           203\n",
       "14    2 1582           203\n",
       "\n",
       "$`209`\n",
       "   Tree  age circumference\n",
       "27    4 1372           209\n",
       "\n",
       "$`214`\n",
       "   Tree  age circumference\n",
       "28    4 1582           214\n"
      ]
     },
     "metadata": {},
     "output_type": "display_data"
    }
   ],
   "source": [
    "split_data = split(Orange,Orange$circumference)\n",
    "split_data"
   ]
  },
  {
   "cell_type": "code",
   "execution_count": 42,
   "metadata": {},
   "outputs": [
    {
     "data": {
      "text/html": [
       "<table>\n",
       "<thead><tr><th></th><th scope=col>Tree</th><th scope=col>age</th><th scope=col>circumference</th></tr></thead>\n",
       "<tbody>\n",
       "\t<tr><th scope=row>1</th><td>1  </td><td>118</td><td>30 </td></tr>\n",
       "\t<tr><th scope=row>15</th><td>3  </td><td>118</td><td>30 </td></tr>\n",
       "\t<tr><th scope=row>29</th><td>5  </td><td>118</td><td>30 </td></tr>\n",
       "</tbody>\n",
       "</table>\n"
      ],
      "text/latex": [
       "\\begin{tabular}{r|lll}\n",
       "  & Tree & age & circumference\\\\\n",
       "\\hline\n",
       "\t1 & 1   & 118 & 30 \\\\\n",
       "\t15 & 3   & 118 & 30 \\\\\n",
       "\t29 & 5   & 118 & 30 \\\\\n",
       "\\end{tabular}\n"
      ],
      "text/markdown": [
       "\n",
       "| <!--/--> | Tree | age | circumference |\n",
       "|---|---|---|---|\n",
       "| 1 | 1   | 118 | 30  |\n",
       "| 15 | 3   | 118 | 30  |\n",
       "| 29 | 5   | 118 | 30  |\n",
       "\n"
      ],
      "text/plain": [
       "   Tree age circumference\n",
       "1  1    118 30           \n",
       "15 3    118 30           \n",
       "29 5    118 30           "
      ]
     },
     "metadata": {},
     "output_type": "display_data"
    }
   ],
   "source": [
    "split_data$'30'"
   ]
  },
  {
   "cell_type": "code",
   "execution_count": 44,
   "metadata": {},
   "outputs": [
    {
     "data": {
      "text/html": [
       "<table>\n",
       "<thead><tr><th></th><th scope=col>Tree</th><th scope=col>age</th><th scope=col>circumference</th></tr></thead>\n",
       "<tbody>\n",
       "\t<tr><th scope=row>17</th><td>3  </td><td>664</td><td>75 </td></tr>\n",
       "</tbody>\n",
       "</table>\n"
      ],
      "text/latex": [
       "\\begin{tabular}{r|lll}\n",
       "  & Tree & age & circumference\\\\\n",
       "\\hline\n",
       "\t17 & 3   & 664 & 75 \\\\\n",
       "\\end{tabular}\n"
      ],
      "text/markdown": [
       "\n",
       "| <!--/--> | Tree | age | circumference |\n",
       "|---|---|---|---|\n",
       "| 17 | 3   | 664 | 75  |\n",
       "\n"
      ],
      "text/plain": [
       "   Tree age circumference\n",
       "17 3    664 75           "
      ]
     },
     "metadata": {},
     "output_type": "display_data"
    }
   ],
   "source": [
    "split_data$'75'"
   ]
  },
  {
   "cell_type": "code",
   "execution_count": 60,
   "metadata": {},
   "outputs": [
    {
     "data": {
      "text/html": [
       "<table>\n",
       "<thead><tr><th></th><th scope=col>Tree</th><th scope=col>age</th><th scope=col>circumference</th></tr></thead>\n",
       "<tbody>\n",
       "\t<tr><th scope=row>1</th><td>1  </td><td>118</td><td>30 </td></tr>\n",
       "\t<tr><th scope=row>15</th><td>3  </td><td>118</td><td>30 </td></tr>\n",
       "\t<tr><th scope=row>29</th><td>5  </td><td>118</td><td>30 </td></tr>\n",
       "</tbody>\n",
       "</table>\n"
      ],
      "text/latex": [
       "\\begin{tabular}{r|lll}\n",
       "  & Tree & age & circumference\\\\\n",
       "\\hline\n",
       "\t1 & 1   & 118 & 30 \\\\\n",
       "\t15 & 3   & 118 & 30 \\\\\n",
       "\t29 & 5   & 118 & 30 \\\\\n",
       "\\end{tabular}\n"
      ],
      "text/markdown": [
       "\n",
       "| <!--/--> | Tree | age | circumference |\n",
       "|---|---|---|---|\n",
       "| 1 | 1   | 118 | 30  |\n",
       "| 15 | 3   | 118 | 30  |\n",
       "| 29 | 5   | 118 | 30  |\n",
       "\n"
      ],
      "text/plain": [
       "   Tree age circumference\n",
       "1  1    118 30           \n",
       "15 3    118 30           \n",
       "29 5    118 30           "
      ]
     },
     "metadata": {},
     "output_type": "display_data"
    },
    {
     "data": {
      "text/html": [
       "118"
      ],
      "text/latex": [
       "118"
      ],
      "text/markdown": [
       "118"
      ],
      "text/plain": [
       "[1] 118"
      ]
     },
     "metadata": {},
     "output_type": "display_data"
    }
   ],
   "source": [
    "at30 = split_data$'30'\n",
    "at30\n",
    "mean(at30$'age')"
   ]
  },
  {
   "cell_type": "code",
   "execution_count": 62,
   "metadata": {},
   "outputs": [
    {
     "data": {
      "text/html": [
       "<table>\n",
       "<thead><tr><th></th><th scope=col>Tree</th><th scope=col>age</th><th scope=col>circumference</th></tr></thead>\n",
       "<tbody>\n",
       "\t<tr><th scope=row>28</th><td>4   </td><td>1582</td><td>214 </td></tr>\n",
       "</tbody>\n",
       "</table>\n"
      ],
      "text/latex": [
       "\\begin{tabular}{r|lll}\n",
       "  & Tree & age & circumference\\\\\n",
       "\\hline\n",
       "\t28 & 4    & 1582 & 214 \\\\\n",
       "\\end{tabular}\n"
      ],
      "text/markdown": [
       "\n",
       "| <!--/--> | Tree | age | circumference |\n",
       "|---|---|---|---|\n",
       "| 28 | 4    | 1582 | 214  |\n",
       "\n"
      ],
      "text/plain": [
       "   Tree age  circumference\n",
       "28 4    1582 214          "
      ]
     },
     "metadata": {},
     "output_type": "display_data"
    },
    {
     "data": {
      "text/html": [
       "1582"
      ],
      "text/latex": [
       "1582"
      ],
      "text/markdown": [
       "1582"
      ],
      "text/plain": [
       "[1] 1582"
      ]
     },
     "metadata": {},
     "output_type": "display_data"
    }
   ],
   "source": [
    "at214 = split_data$'214'\n",
    "at214\n",
    "mean(at214$'age')"
   ]
  },
  {
   "cell_type": "code",
   "execution_count": 14,
   "metadata": {},
   "outputs": [],
   "source": [
    "#### End solution ####"
   ]
  },
  {
   "cell_type": "markdown",
   "metadata": {},
   "source": [
    "\n",
    "### Save it and push .ipynb and .html file to your Github Repository\n",
    "## GOOD JOB! You have successfully finished the course!"
   ]
  },
  {
   "cell_type": "code",
   "execution_count": null,
   "metadata": {},
   "outputs": [],
   "source": []
  }
 ],
 "metadata": {
  "kernelspec": {
   "display_name": "R",
   "language": "R",
   "name": "ir"
  },
  "language_info": {
   "codemirror_mode": "r",
   "file_extension": ".r",
   "mimetype": "text/x-r-source",
   "name": "R",
   "pygments_lexer": "r",
   "version": "3.6.1"
  }
 },
 "nbformat": 4,
 "nbformat_minor": 4
}
